{
  "nbformat": 4,
  "nbformat_minor": 0,
  "metadata": {
    "colab": {
      "provenance": []
    },
    "kernelspec": {
      "name": "python3",
      "display_name": "Python 3"
    },
    "language_info": {
      "name": "python"
    }
  },
  "cells": [
    {
      "cell_type": "markdown",
      "source": [
        "# 29th Jan Python Assignment"
      ],
      "metadata": {
        "id": "BP9hFde-JoEC"
      }
    },
    {
      "cell_type": "markdown",
      "source": [
        "1] Who developed Python Prog language?\n",
        "\n",
        "Guido van Rossum\n",
        "\n",
        "2] Which type of programming does python support\n",
        "\n",
        "Python is an interpreted programming language, supporting object-oriented, structured, and functional programming.\n",
        "\n",
        "3] Is python case sensitive while dealing with identifiers?\n",
        "\n",
        "Yes\n",
        "\n",
        "4] What is the correct extension of python files?\n",
        "\n",
        ".py\n",
        "\n",
        "5] Is python code compiled or interpreted?\n",
        "\n",
        "Interpreted\n",
        "\n",
        "6] name a few blocks of code used to define in python language.\n",
        "\n",
        "Module, function body, class definition, function definition\n",
        "\n",
        "7] State a character used to define single line comments in python\n",
        "\n",
        "\"#\" is used for single-line comments\n",
        "\n",
        "8] Mention fucntions to find the version of python we are working on\n",
        "\n",
        "sys.version can be used but first, we have to import sys\n",
        "\n",
        "9] Python supports the creation of anonymous functions at runtime, using a construct called lambda\n",
        "\n",
        "10] pip stands for pip install packages in python\n",
        "\n",
        "11] Mention a few built-in functions in python\n",
        "\n",
        "len(), sum(), input(), sorted(), max()\n",
        "\n",
        "12] What is the maximum possible length of an identifier in python\n",
        "\n",
        "79 characters\n",
        "\n",
        "13] what are the benefits of using python\n",
        "\n",
        "Simple to use, free, open source, interpreted language, booming for new technologies, wider applications\n",
        "\n",
        "14] How is memory managed in python\n",
        "\n",
        "Memory management in Python involves a private heap containing all Python objects and data structures. The management of this private heap is ensured internally by the Python memory manager. Hence, it is done automatically.\n",
        "\n",
        "15] How to install python on windows and set path variables\n",
        "\n",
        "Step 1 − Select Version of Python to Install\n",
        "Step 2 − Download Python Executable Installer\n",
        "Step 3 − Run Executable Installer\n",
        "Step 4 − Verify Python is installed on Window\n",
        "Step 5 − Verify Pip was installed\n",
        "Step 6 -  click Start and search for 'edit environment variables', or open System properties, Advanced system settings and click the Environment Variables button. In this dialog, you can add or modify User and System variables.\n",
        "\n",
        "16] is indentation required in python\n",
        "\n",
        "Indentation is important to Python, because it's how you determine scope. Scope is how Python knows what code belongs to what part of the program.\n",
        "\n",
        "\n",
        "\n",
        "\n",
        "\n",
        "\n"
      ],
      "metadata": {
        "id": "q2qx-c_dJu0d"
      }
    }
  ]
}