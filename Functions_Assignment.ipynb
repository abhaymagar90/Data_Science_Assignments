{
  "nbformat": 4,
  "nbformat_minor": 0,
  "metadata": {
    "colab": {
      "provenance": []
    },
    "kernelspec": {
      "name": "python3",
      "display_name": "Python 3"
    },
    "language_info": {
      "name": "python"
    }
  },
  "cells": [
    {
      "cell_type": "markdown",
      "source": [
        "***Q1. Which keyword is used to create a function? Create a function to return a list of odd numbers in the range of 1 to 25.***\n",
        "\n",
        "'def' keyword is used to create a function in python"
      ],
      "metadata": {
        "id": "3fC13t3KQ_5w"
      }
    },
    {
      "cell_type": "code",
      "execution_count": 51,
      "metadata": {
        "colab": {
          "base_uri": "https://localhost:8080/"
        },
        "id": "dGCFAp97Q0zc",
        "outputId": "b46aad40-451d-498a-f50d-dd1baee2d1c1"
      },
      "outputs": [
        {
          "output_type": "execute_result",
          "data": {
            "text/plain": [
              "[1, 3, 5, 7, 9]"
            ]
          },
          "metadata": {},
          "execution_count": 51
        }
      ],
      "source": [
        "lst = [1,2,3,4,5,6,7,8,9,10]\n",
        "\n",
        "def test(l):\n",
        "  l1 = []\n",
        "  for i in l:\n",
        "    if i%2!=0:\n",
        "      l1.append(i)\n",
        "  return l1\n",
        "\n",
        "test(lst)"
      ]
    },
    {
      "cell_type": "markdown",
      "source": [
        "Q2. Why *args and **kwargs is used in some functions? Create a function each for *args and **kwargs to demonstrate their use.\n",
        "\n",
        "1] *args is used in a function to take any number of  arguments for that function. Returned value is a tuple\n",
        "\n",
        "2] **kwargs is used in a function to take any number of key-value paired arguments for that function. Returned value is a dictionary"
      ],
      "metadata": {
        "id": "WLWGk3jVShBU"
      }
    },
    {
      "cell_type": "code",
      "source": [
        "def test1(*args):    # we can write anything in place of args.   like *abhay also\n",
        "  return args\n",
        "\n",
        "print(test1())\n",
        "print(test1(1,2,3,\"abhay\", {56,78}, [9,10,12]))\n",
        "type(test1())"
      ],
      "metadata": {
        "colab": {
          "base_uri": "https://localhost:8080/"
        },
        "id": "r9a7oFWHTU_N",
        "outputId": "07f18fb1-7da4-4480-c0ad-e72f5010ba3d"
      },
      "execution_count": 52,
      "outputs": [
        {
          "output_type": "stream",
          "name": "stdout",
          "text": [
            "()\n",
            "(1, 2, 3, 'abhay', {56, 78}, [9, 10, 12])\n"
          ]
        },
        {
          "output_type": "execute_result",
          "data": {
            "text/plain": [
              "tuple"
            ]
          },
          "metadata": {},
          "execution_count": 52
        }
      ]
    },
    {
      "cell_type": "code",
      "source": [
        "def test2(**kwargs):    # we can write anything in place of kwargs.   like **abhay also\n",
        "  return kwargs\n",
        "\n",
        "print(test2())\n",
        "print(test2(a=12, b=34.76, c=False, d={\"name\":\"Abhay\"}, what =\"yes\"))\n",
        "type(test2())"
      ],
      "metadata": {
        "colab": {
          "base_uri": "https://localhost:8080/"
        },
        "id": "fXg00pgHTmBd",
        "outputId": "e9d738b1-5fad-4ea3-e16e-0a04d1b45103"
      },
      "execution_count": 53,
      "outputs": [
        {
          "output_type": "stream",
          "name": "stdout",
          "text": [
            "{}\n",
            "{'a': 12, 'b': 34.76, 'c': False, 'd': {'name': 'Abhay'}, 'what': 'yes'}\n"
          ]
        },
        {
          "output_type": "execute_result",
          "data": {
            "text/plain": [
              "dict"
            ]
          },
          "metadata": {},
          "execution_count": 53
        }
      ]
    },
    {
      "cell_type": "markdown",
      "source": [
        "***Q3. What is an iterator in python? Name the method used to initialise the iterator object and the method used for iteration. Use these methods to print the first five elements of the given list [2, 4, 6, 8, 10, 12, 14, 16, 18, 20].***\n",
        "\n",
        "An iterator is an object that contains a countable number of values.\n",
        "\n",
        "__iter__(): The iter() method is called for the initializing iterator. \n",
        "\n",
        "__next__(): The next method returns the next value for the iterable.\n",
        "\n",
        "This operation takes place implicitly in a for loop. Internally it uses the iter() method to get an iterator object, which further uses the next() method to iterate over. \n"
      ],
      "metadata": {
        "id": "TP9THOwKUatR"
      }
    },
    {
      "cell_type": "code",
      "source": [
        "mylist = [2, 4, 6, 8, 10, 12, 14, 16, 18, 20]\n",
        "myiter = iter(mylist)\n",
        "\n",
        "print(next(myiter))\n",
        "print(next(myiter))\n",
        "print(next(myiter))\n",
        "print(next(myiter))\n",
        "print(next(myiter))"
      ],
      "metadata": {
        "colab": {
          "base_uri": "https://localhost:8080/"
        },
        "id": "ybG13FBkVpNg",
        "outputId": "f423510b-a5e8-42ee-d761-cef346c4dbe7"
      },
      "execution_count": 54,
      "outputs": [
        {
          "output_type": "stream",
          "name": "stdout",
          "text": [
            "2\n",
            "4\n",
            "6\n",
            "8\n",
            "10\n"
          ]
        }
      ]
    },
    {
      "cell_type": "markdown",
      "source": [
        "***Q4. What is a generator function in python? Why yield keyword is used? Give an example of a generator function.***\n",
        "\n",
        "Generator is a function that returns an iterator that produces a sequence of values when iterated over. Generators are useful when we want to produce a large sequence of values, but we don't want to store all of them in memory at once.\n",
        "\n",
        "\"Yield\" is used to return current value of a variable. This is similar to a return statement used for returning values in Python. Difference is that, yield is used to return current value of every iteration."
      ],
      "metadata": {
        "id": "PVxm60AYWCng"
      }
    },
    {
      "cell_type": "code",
      "source": [
        "def test3(n):\n",
        "  a = 1\n",
        "  for i in range(n):\n",
        "    yield a\n",
        "    a = a + 1\n",
        "\n",
        "test3(10)\n"
      ],
      "metadata": {
        "colab": {
          "base_uri": "https://localhost:8080/"
        },
        "id": "J2Zu54wNV4O9",
        "outputId": "4d00f340-1411-4c28-b2a4-c7aec2110be0"
      },
      "execution_count": 55,
      "outputs": [
        {
          "output_type": "execute_result",
          "data": {
            "text/plain": [
              "<generator object test3 at 0x7f82a69f00b0>"
            ]
          },
          "metadata": {},
          "execution_count": 55
        }
      ]
    },
    {
      "cell_type": "code",
      "source": [
        "for i in test3(10):\n",
        "  print(i)"
      ],
      "metadata": {
        "colab": {
          "base_uri": "https://localhost:8080/"
        },
        "id": "2hAf3DBgXRIg",
        "outputId": "30d3bc4e-4ee6-453a-ea09-7163713d56de"
      },
      "execution_count": 56,
      "outputs": [
        {
          "output_type": "stream",
          "name": "stdout",
          "text": [
            "1\n",
            "2\n",
            "3\n",
            "4\n",
            "5\n",
            "6\n",
            "7\n",
            "8\n",
            "9\n",
            "10\n"
          ]
        }
      ]
    },
    {
      "cell_type": "markdown",
      "source": [
        "***Q5. Create a generator function for prime numbers less than 1000. Use the next() method to print the first 20 prime numbers.***"
      ],
      "metadata": {
        "id": "wPcKugMWYTgw"
      }
    },
    {
      "cell_type": "code",
      "source": [
        "def prime(n):\n",
        "  for i in range(1,n):\n",
        "    if i == 1:\n",
        "      continue\n",
        "    for m in range(2,i):\n",
        "      if i%m ==0:\n",
        "        break\n",
        "    else:\n",
        "      yield i\n",
        "\n",
        "prime(10)\n",
        "      "
      ],
      "metadata": {
        "id": "lG6INE1fcyc9",
        "colab": {
          "base_uri": "https://localhost:8080/"
        },
        "outputId": "1a483e94-d3ee-4332-deff-0b164e883bcd"
      },
      "execution_count": 57,
      "outputs": [
        {
          "output_type": "execute_result",
          "data": {
            "text/plain": [
              "<generator object prime at 0x7f82a69f2350>"
            ]
          },
          "metadata": {},
          "execution_count": 57
        }
      ]
    },
    {
      "cell_type": "code",
      "source": [
        "l = prime(1000)\n",
        "l_iter = iter(l) \n",
        "\n",
        "for n in range(0,20):\n",
        "  print(next(l_iter))"
      ],
      "metadata": {
        "colab": {
          "base_uri": "https://localhost:8080/"
        },
        "id": "ZBRxNG48yoVJ",
        "outputId": "c8a5460d-a5f1-4755-b995-8bfb45392f2b"
      },
      "execution_count": 58,
      "outputs": [
        {
          "output_type": "stream",
          "name": "stdout",
          "text": [
            "2\n",
            "3\n",
            "5\n",
            "7\n",
            "11\n",
            "13\n",
            "17\n",
            "19\n",
            "23\n",
            "29\n",
            "31\n",
            "37\n",
            "41\n",
            "43\n",
            "47\n",
            "53\n",
            "59\n",
            "61\n",
            "67\n",
            "71\n"
          ]
        }
      ]
    }
  ]
}