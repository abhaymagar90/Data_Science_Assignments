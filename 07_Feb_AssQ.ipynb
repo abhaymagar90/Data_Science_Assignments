{
  "nbformat": 4,
  "nbformat_minor": 0,
  "metadata": {
    "colab": {
      "provenance": []
    },
    "kernelspec": {
      "name": "python3",
      "display_name": "Python 3"
    },
    "language_info": {
      "name": "python"
    }
  },
  "cells": [
    {
      "cell_type": "markdown",
      "source": [
        "Q1. You are writing code for a company. The requirement of the company is that you create a python\n",
        "function that will check whether the password entered by the user is correct or not. The function should\n",
        "take the password as input and return the string “Valid Password” if the entered password follows the\n",
        "below-given password guidelines else it should return “Invalid Password”.\n",
        "\n",
        "Note: \n",
        "1. The Password should contain at least two uppercase letters and at least two lowercase letters.\n",
        "2. The Password should contain at least a number and three special characters.\n",
        "3. The length of the password should be 10 characters long."
      ],
      "metadata": {
        "id": "YM2ExUoHmxEe"
      }
    },
    {
      "cell_type": "code",
      "source": [
        "def password(stri):\n",
        "  u,l,n,s = 0,0,0,0\n",
        "  st = \"[@_!#$%^&*()<>?}{~:]\"\n",
        "  for i in stri:\n",
        "    if i.isupper():\n",
        "      u = u + 1\n",
        "    if i.islower():\n",
        "      l = l + 1\n",
        "    if i in st:\n",
        "      s = s + 1\n",
        "    if i.isnumeric():\n",
        "      n = n + 1\n",
        "  if u >= 2 and l >= 2 and s >=3 and n>=1 and len(stri) == 10:\n",
        "    return \"Valid Password\"\n",
        "  else:\n",
        "    return \"Invalid Password\"\n",
        "\n",
        "\n",
        "passw = \"@PAssWd#@3\"\n",
        "password(passw)"
      ],
      "metadata": {
        "colab": {
          "base_uri": "https://localhost:8080/",
          "height": 36
        },
        "id": "Wq8moOw4mxm0",
        "outputId": "6fdbdad3-bc79-4ac1-d986-d1fa041b8f82"
      },
      "execution_count": 45,
      "outputs": [
        {
          "output_type": "execute_result",
          "data": {
            "text/plain": [
              "'Valid Password'"
            ],
            "application/vnd.google.colaboratory.intrinsic+json": {
              "type": "string"
            }
          },
          "metadata": {},
          "execution_count": 45
        }
      ]
    },
    {
      "cell_type": "code",
      "source": [
        "\n",
        "passw2 = \"#@xcomjoaFHh\"\n",
        "password(passw2)"
      ],
      "metadata": {
        "colab": {
          "base_uri": "https://localhost:8080/",
          "height": 36
        },
        "id": "VCa5DaOon4uE",
        "outputId": "d7a751fc-9b2e-4618-ea4f-70d4580ca354"
      },
      "execution_count": 46,
      "outputs": [
        {
          "output_type": "execute_result",
          "data": {
            "text/plain": [
              "'Invalid Password'"
            ],
            "application/vnd.google.colaboratory.intrinsic+json": {
              "type": "string"
            }
          },
          "metadata": {},
          "execution_count": 46
        }
      ]
    },
    {
      "cell_type": "markdown",
      "source": [
        "Q2. Solve the below-given questions using at least one of the following:\n",
        "1. Lambda function\n",
        "2. Filter function\n",
        "3. Map function\n",
        "4. List Comprehension\n",
        " Check if the string starts with a particular letter\n",
        " Check if the string is numeric\n",
        " Sort a list of tuples having fruit names and their quantity. [(\"mango\",99),(\"orange\",80), (\"grapes\", 1000)]\n",
        "B Find the squares of numbers from 1 to 10.\n",
        "B Find the cube root of numbers from 1 to 10.\n",
        "B Check if a given number is even.\n",
        "B Filter odd numbers from the given list.\n",
        "[1,2,3,4,5,6,7,8,9,10]\n",
        "B Sort a list of integers into positive and negative integers lists.\n",
        "[1,2,3,4,5,6,-1,-2,-3,-4,-5,0]"
      ],
      "metadata": {
        "id": "Uf0UJsbjusSF"
      }
    },
    {
      "cell_type": "markdown",
      "source": [
        "1.  Check if the string starts with a particular letter."
      ],
      "metadata": {
        "id": "0tdhj3lGvlEb"
      }
    },
    {
      "cell_type": "code",
      "source": [
        "a = lambda x : x.startswith(\"a\")\n",
        "print( a(\"mobile\"), \"\\n\" )\n",
        "\n",
        "print(a(\"ant\"))"
      ],
      "metadata": {
        "colab": {
          "base_uri": "https://localhost:8080/"
        },
        "id": "M9Htsb5at6bY",
        "outputId": "552b2b4e-fa88-4bbf-e0fe-e8b09790adfb"
      },
      "execution_count": 49,
      "outputs": [
        {
          "output_type": "stream",
          "name": "stdout",
          "text": [
            "False \n",
            "\n",
            "True\n"
          ]
        }
      ]
    },
    {
      "cell_type": "markdown",
      "source": [
        "Check if the string is numeric."
      ],
      "metadata": {
        "id": "MZP9UaadwjQZ"
      }
    },
    {
      "cell_type": "code",
      "source": [
        "n = lambda x : x.isnumeric()\n",
        "print(n(\"asuchii\"), \"\\n\")\n",
        "print(n(\"3792311\"))"
      ],
      "metadata": {
        "colab": {
          "base_uri": "https://localhost:8080/"
        },
        "id": "1jV3wkY8wPmv",
        "outputId": "55ba0c67-0e74-41a1-fcc7-996cf94714a4"
      },
      "execution_count": 52,
      "outputs": [
        {
          "output_type": "stream",
          "name": "stdout",
          "text": [
            "False \n",
            "\n",
            "True\n"
          ]
        }
      ]
    },
    {
      "cell_type": "markdown",
      "source": [
        " Sort a list of tuples having fruit names and their quantity. [(\"mango\",99),(\"orange\",80), (\"grapes\", 1000)]"
      ],
      "metadata": {
        "id": "_GsGpDhtw4tY"
      }
    },
    {
      "cell_type": "code",
      "source": [
        "lst = [(\"mango\",99),(\"orange\",80), (\"grapes\", 1000)]\n",
        "\n",
        "l1 = []\n",
        "for i in lst:\n",
        "  l1.append(list(i))\n",
        "print(l1, \"\\n\")\n",
        "\n",
        "print(\"BASED ON ALPHABETICAL ORDER:\\n\")\n",
        "l1.sort()\n",
        "lst.clear()\n",
        "for i in l1:\n",
        "  lst.append(tuple(i))\n",
        "print(lst, \"\\n\\n\")\n",
        "\n",
        "print(\"BASED ON NUMERIC VALUE:\\n\")\n",
        "l1.sort(key = lambda x : x[1])\n",
        "lst.clear()\n",
        "for i in l1:\n",
        "  lst.append(tuple(i))\n",
        "print(lst)\n"
      ],
      "metadata": {
        "colab": {
          "base_uri": "https://localhost:8080/"
        },
        "id": "Yh2-vkExwvZt",
        "outputId": "764c2fc7-7846-4fc5-ebf6-9f678d91216e"
      },
      "execution_count": 64,
      "outputs": [
        {
          "output_type": "stream",
          "name": "stdout",
          "text": [
            "[['mango', 99], ['orange', 80], ['grapes', 1000]] \n",
            "\n",
            "BASED ON ALPHABETICAL ORDER:\n",
            "\n",
            "[('grapes', 1000), ('mango', 99), ('orange', 80)] \n",
            "\n",
            "\n",
            "BASED ON NUMERIC VALUE:\n",
            "\n",
            "[('orange', 80), ('mango', 99), ('grapes', 1000)]\n"
          ]
        }
      ]
    },
    {
      "cell_type": "markdown",
      "source": [
        "Find the squares of numbers from 1 to 10."
      ],
      "metadata": {
        "id": "1wc34jcty3tb"
      }
    },
    {
      "cell_type": "code",
      "source": [
        "list1 = []\n",
        "for i in range(1,10+1):\n",
        "  list1.append(i)\n",
        "print(list1, \"\\n\")\n",
        "\n",
        "list( map( lambda x : x**2, list1 ) )"
      ],
      "metadata": {
        "colab": {
          "base_uri": "https://localhost:8080/"
        },
        "id": "xQ2GjCnzxeKn",
        "outputId": "d3789d43-5c31-41b0-a476-8d7b98355d01"
      },
      "execution_count": 67,
      "outputs": [
        {
          "output_type": "stream",
          "name": "stdout",
          "text": [
            "[1, 2, 3, 4, 5, 6, 7, 8, 9, 10] \n",
            "\n"
          ]
        },
        {
          "output_type": "execute_result",
          "data": {
            "text/plain": [
              "[1, 4, 9, 16, 25, 36, 49, 64, 81, 100]"
            ]
          },
          "metadata": {},
          "execution_count": 67
        }
      ]
    },
    {
      "cell_type": "markdown",
      "source": [
        "Find the cube root of numbers from 1 to 10."
      ],
      "metadata": {
        "id": "Xfy5QlJ3zWr-"
      }
    },
    {
      "cell_type": "code",
      "source": [
        "list( map( lambda x : x**3, list1 ) )"
      ],
      "metadata": {
        "colab": {
          "base_uri": "https://localhost:8080/"
        },
        "id": "DabHvP2MzOWR",
        "outputId": "476f0f5f-4b3c-436c-c3cc-bd1fe7e19f20"
      },
      "execution_count": 68,
      "outputs": [
        {
          "output_type": "execute_result",
          "data": {
            "text/plain": [
              "[1, 8, 27, 64, 125, 216, 343, 512, 729, 1000]"
            ]
          },
          "metadata": {},
          "execution_count": 68
        }
      ]
    },
    {
      "cell_type": "code",
      "source": [
        "even_num = lambda x : x %2 == 0\n",
        "\n",
        "print(even_num(3), \"\\n\" )\n",
        "print(even_num(2))"
      ],
      "metadata": {
        "colab": {
          "base_uri": "https://localhost:8080/"
        },
        "id": "lt7Tiow8zZwH",
        "outputId": "04e99ca4-a98c-4fa2-e1f5-5c30a72fc72f"
      },
      "execution_count": 70,
      "outputs": [
        {
          "output_type": "stream",
          "name": "stdout",
          "text": [
            "False \n",
            "\n",
            "True\n"
          ]
        }
      ]
    },
    {
      "cell_type": "markdown",
      "source": [
        "Filter odd numbers from the given list.\n",
        "[1,2,3,4,5,6,7,8,9,10]"
      ],
      "metadata": {
        "id": "PEDNlB2Vzq54"
      }
    },
    {
      "cell_type": "code",
      "source": [
        "list( filter( lambda x : x%2 == 1, [1,2,3,4,5,6,7,8,9,10] ) )"
      ],
      "metadata": {
        "colab": {
          "base_uri": "https://localhost:8080/"
        },
        "id": "5MD5ZRdhzltB",
        "outputId": "0be552c0-96ea-40e8-e896-5b40158b32d9"
      },
      "execution_count": 71,
      "outputs": [
        {
          "output_type": "execute_result",
          "data": {
            "text/plain": [
              "[1, 3, 5, 7, 9]"
            ]
          },
          "metadata": {},
          "execution_count": 71
        }
      ]
    },
    {
      "cell_type": "markdown",
      "source": [
        "Sort a list of integers into positive and negative integers lists.\n",
        "[1,2,3,4,5,6,-1,-2,-3,-4,-5,0]"
      ],
      "metadata": {
        "id": "7vXR3Z_Bz8I4"
      }
    },
    {
      "cell_type": "code",
      "source": [
        "lst1 = [1,3,2,5,-1,-5,-3,4,6,0,-2,-4]\n",
        "pos = [x for x in lst1 if x>0]\n",
        "pos.sort()\n",
        "neg = [x for x in lst1 if x<0]\n",
        "neg.sort(reverse=True)\n",
        "z = [x for x in lst1 if x==0]\n"
      ],
      "metadata": {
        "id": "b_uKE9I4z3Ja"
      },
      "execution_count": 86,
      "outputs": []
    },
    {
      "cell_type": "code",
      "source": [
        "pos"
      ],
      "metadata": {
        "colab": {
          "base_uri": "https://localhost:8080/"
        },
        "id": "2yh7Evpj0q67",
        "outputId": "10b2ff26-4a50-491f-a0fe-b15657b29515"
      },
      "execution_count": 87,
      "outputs": [
        {
          "output_type": "execute_result",
          "data": {
            "text/plain": [
              "[1, 2, 3, 4, 5, 6]"
            ]
          },
          "metadata": {},
          "execution_count": 87
        }
      ]
    },
    {
      "cell_type": "code",
      "source": [
        "neg"
      ],
      "metadata": {
        "colab": {
          "base_uri": "https://localhost:8080/"
        },
        "id": "zZcfYphX03oD",
        "outputId": "b1117d8f-5ce5-47c1-85b2-bb1bfb19908b"
      },
      "execution_count": 88,
      "outputs": [
        {
          "output_type": "execute_result",
          "data": {
            "text/plain": [
              "[-1, -2, -3, -4, -5]"
            ]
          },
          "metadata": {},
          "execution_count": 88
        }
      ]
    },
    {
      "cell_type": "code",
      "source": [
        "z"
      ],
      "metadata": {
        "colab": {
          "base_uri": "https://localhost:8080/"
        },
        "id": "57ktTbO41_Ez",
        "outputId": "1faf769f-5de0-4969-8bb7-c650de67674e"
      },
      "execution_count": 89,
      "outputs": [
        {
          "output_type": "execute_result",
          "data": {
            "text/plain": [
              "[0]"
            ]
          },
          "metadata": {},
          "execution_count": 89
        }
      ]
    },
    {
      "cell_type": "code",
      "source": [
        "final_list = pos + neg + z"
      ],
      "metadata": {
        "id": "LOIzuZHU1_XL"
      },
      "execution_count": 90,
      "outputs": []
    },
    {
      "cell_type": "code",
      "source": [
        "final_list"
      ],
      "metadata": {
        "colab": {
          "base_uri": "https://localhost:8080/"
        },
        "id": "CeT23jNu2Iwz",
        "outputId": "e0835f54-6dbc-47d1-dd86-ad9566b4cc84"
      },
      "execution_count": 91,
      "outputs": [
        {
          "output_type": "execute_result",
          "data": {
            "text/plain": [
              "[1, 2, 3, 4, 5, 6, -1, -2, -3, -4, -5, 0]"
            ]
          },
          "metadata": {},
          "execution_count": 91
        }
      ]
    }
  ]
}