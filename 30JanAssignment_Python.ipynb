{
  "nbformat": 4,
  "nbformat_minor": 0,
  "metadata": {
    "colab": {
      "provenance": []
    },
    "kernelspec": {
      "name": "python3",
      "display_name": "Python 3"
    },
    "language_info": {
      "name": "python"
    }
  },
  "cells": [
    {
      "cell_type": "markdown",
      "source": [
        "# Assignment 2"
      ],
      "metadata": {
        "id": "-juOPZ6v4C8E"
      }
    },
    {
      "cell_type": "code",
      "source": [
        "# Q.1\n",
        "\n",
        "marks = int(input(\"enter marks: \"))\n",
        "if marks>90:\n",
        "  print(\"Grade A\")\n",
        "elif (marks > 80) and (marks<=90):\n",
        "  print(\"Grade B\")\n",
        "elif (marks >= 60) and (marks<=80):\n",
        "  print(\"Grade C\")\n",
        "else:\n",
        "  print(\"Grade D\")\n",
        "\n"
      ],
      "metadata": {
        "colab": {
          "base_uri": "https://localhost:8080/"
        },
        "id": "KGIo5pCI4FZk",
        "outputId": "211a0a39-5418-4438-8356-1587e6d62865"
      },
      "execution_count": 5,
      "outputs": [
        {
          "output_type": "stream",
          "name": "stdout",
          "text": [
            "enter marks: 99\n",
            "Grade A\n"
          ]
        }
      ]
    },
    {
      "cell_type": "code",
      "source": [
        "# Q.2\n",
        "\n",
        "price = int(input(\"enter price: \"))\n",
        "if price > 100000:\n",
        "  print(0.15*price)\n",
        "elif (price > 50000) and (price<=100000):\n",
        "  print(price*0.1)\n",
        "else:\n",
        "  print(price*0.05)"
      ],
      "metadata": {
        "colab": {
          "base_uri": "https://localhost:8080/"
        },
        "id": "3af_FH9E5JHm",
        "outputId": "68d42039-950a-44e4-9ccf-47bd8f6ae0b7"
      },
      "execution_count": 9,
      "outputs": [
        {
          "output_type": "stream",
          "name": "stdout",
          "text": [
            "enter price: 100001\n",
            "15000.15\n"
          ]
        }
      ]
    },
    {
      "cell_type": "code",
      "source": [
        "# Q.3\n",
        "\n",
        "city = input(\"enter city: \")\n",
        "if city.lower() == \"delhi\":\n",
        "  print(\"Red Fort\")\n",
        "elif city.lower() == \"agra\":\n",
        "  print(\"Taj Mahal\")\n",
        "elif city.lower() == \"jaipur\":\n",
        "  print(\"Jal Mahal\")\n",
        "else:\n",
        "  pass"
      ],
      "metadata": {
        "colab": {
          "base_uri": "https://localhost:8080/"
        },
        "id": "Jq0Lim0s67S0",
        "outputId": "6e53ec46-66d5-4afb-bc42-dfe5f0b317e7"
      },
      "execution_count": 14,
      "outputs": [
        {
          "output_type": "stream",
          "name": "stdout",
          "text": [
            "enter city: JaiPUr\n",
            "Jal Mahal\n"
          ]
        }
      ]
    },
    {
      "cell_type": "code",
      "source": [
        "# Q.4\n",
        "\n",
        "num = int(input(\"enter a number \"))\n",
        "i = 0\n",
        "while i>=0:\n",
        "  if num<10:\n",
        "    break\n",
        "  num = num/3\n",
        "  i = i + 1\n",
        "print(i)\n",
        "\n"
      ],
      "metadata": {
        "colab": {
          "base_uri": "https://localhost:8080/"
        },
        "id": "Jwhuu_7r8AiB",
        "outputId": "34a39f91-5c4b-4e31-e401-113e9ad7fa7d"
      },
      "execution_count": 28,
      "outputs": [
        {
          "output_type": "stream",
          "name": "stdout",
          "text": [
            "enter a number 300\n",
            "4\n"
          ]
        }
      ]
    },
    {
      "cell_type": "code",
      "source": [
        "# Q.5 \n",
        "\n",
        "# Python while loop is used to run a block code until a certain condition is met. If the condition is true, loop runs and if it is false, control comes out of the loop\n",
        "\n",
        "i = 0\n",
        "sum = 0\n",
        "while i<=5:\n",
        "  sum = sum + i\n",
        "  i = i + 1\n",
        "print(sum)\n"
      ],
      "metadata": {
        "colab": {
          "base_uri": "https://localhost:8080/"
        },
        "id": "QwbGo5P68pzb",
        "outputId": "c7b92209-e92a-4411-b591-c0fccdb84880"
      },
      "execution_count": 39,
      "outputs": [
        {
          "output_type": "stream",
          "name": "stdout",
          "text": [
            "15\n"
          ]
        }
      ]
    },
    {
      "cell_type": "code",
      "source": [
        "# Q.6\n",
        "\n",
        "n = int(input('Enter number of rows : '))\n",
        " \n",
        "i = 1\n",
        "while i <= n :\n",
        "    j = 1\n",
        "    while j <= i:\n",
        "        print(\"*\", end = \" \")\n",
        "        j += 1\n",
        "    print()\n",
        "    i += 1"
      ],
      "metadata": {
        "colab": {
          "base_uri": "https://localhost:8080/"
        },
        "id": "a8UhhCQq-F2g",
        "outputId": "58bc7eba-2e9b-4852-f893-74db6a0d4adc"
      },
      "execution_count": 40,
      "outputs": [
        {
          "output_type": "stream",
          "name": "stdout",
          "text": [
            "Enter number of rows : 4\n",
            "* \n",
            "* * \n",
            "* * * \n",
            "* * * * \n"
          ]
        }
      ]
    },
    {
      "cell_type": "code",
      "source": [
        "n = int(input('Enter number of rows : '))\n",
        " \n",
        "i = 1\n",
        "while i <= n :\n",
        "    j = n\n",
        "    while j >= i:\n",
        "        print(\"*\", end = \" \")\n",
        "        j -= 1\n",
        "    print()\n",
        "    i += 1"
      ],
      "metadata": {
        "colab": {
          "base_uri": "https://localhost:8080/"
        },
        "id": "bpr-9sOd_D5V",
        "outputId": "27086391-7d9f-4034-e0bc-8144345140a1"
      },
      "execution_count": 41,
      "outputs": [
        {
          "output_type": "stream",
          "name": "stdout",
          "text": [
            "Enter number of rows : 6\n",
            "* * * * * * \n",
            "* * * * * \n",
            "* * * * \n",
            "* * * \n",
            "* * \n",
            "* \n"
          ]
        }
      ]
    },
    {
      "cell_type": "code",
      "source": [
        "n = int(input('Enter number of rows : '))\n",
        " \n",
        "k = 1\n",
        "i = 1\n",
        "while i <= n :\n",
        "    j = 1\n",
        "    while j <= i:\n",
        "        print(\"{:3d}\".format(k), end = \" \")\n",
        "        j += 1\n",
        "        k += 1\n",
        "    print()\n",
        "    i += 1"
      ],
      "metadata": {
        "colab": {
          "base_uri": "https://localhost:8080/"
        },
        "id": "n_T2sv7S_IX8",
        "outputId": "6c2cd612-a119-4eb3-8a1f-0d2c4d46c6b2"
      },
      "execution_count": 42,
      "outputs": [
        {
          "output_type": "stream",
          "name": "stdout",
          "text": [
            "Enter number of rows : 5\n",
            "  1 \n",
            "  2   3 \n",
            "  4   5   6 \n",
            "  7   8   9  10 \n",
            " 11  12  13  14  15 \n"
          ]
        }
      ]
    },
    {
      "cell_type": "code",
      "source": [
        "# Q.7\n",
        "\n",
        "n = 10\n",
        "while n>0:\n",
        "  print(n, end=\" , \")\n",
        "  n = n - 1"
      ],
      "metadata": {
        "colab": {
          "base_uri": "https://localhost:8080/"
        },
        "id": "dhIpQZBp_May",
        "outputId": "891f4c4a-ad1a-47e9-f74f-132ae3736780"
      },
      "execution_count": 45,
      "outputs": [
        {
          "output_type": "stream",
          "name": "stdout",
          "text": [
            "10 , 9 , 8 , 7 , 6 , 5 , 4 , 3 , 2 , 1 , "
          ]
        }
      ]
    }
  ]
}