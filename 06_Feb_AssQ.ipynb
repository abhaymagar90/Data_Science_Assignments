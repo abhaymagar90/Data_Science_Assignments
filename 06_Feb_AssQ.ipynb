{
  "nbformat": 4,
  "nbformat_minor": 0,
  "metadata": {
    "colab": {
      "provenance": []
    },
    "kernelspec": {
      "name": "python3",
      "display_name": "Python 3"
    },
    "language_info": {
      "name": "python"
    }
  },
  "cells": [
    {
      "cell_type": "markdown",
      "source": [
        "# Q1.  Create a function which will take a list as an argument and return the product of all the numbers after creating a flat list. Use the below-given list as an argument for your function.\n",
        "# list1 = [1,2,3,4, [44,55,66, True], False, (34,56,78,89,34), {1,2,3,3,2,1}, {1:34, \"key2\": [55, 67, 78, 89], 4: (45, 22, 61, 34)}, [56, 'data science'], 'Machine Learning']"
      ],
      "metadata": {
        "id": "_ytMNoWoew3s"
      }
    },
    {
      "cell_type": "code",
      "source": [
        "from functools import reduce\n",
        "def product(lst):\n",
        "    flatList=[]\n",
        "    for i in lst:\n",
        "        if type(i)==list or type(i)==tuple or type(i)==set:\n",
        "            for j in i:\n",
        "                if type(j)==int:\n",
        "                    flatList.append(j)\n",
        "        elif type(i)==dict:\n",
        "            for a in i.keys():\n",
        "                if type(a)==int:\n",
        "                    flatList.append(a)\n",
        "            for b in i.values():\n",
        "                if type(b)==int:\n",
        "                    flatList.append(b)\n",
        "                if type(b)==list or type(b)==tuple:\n",
        "                    for c in b:\n",
        "                        if type(c)==int:\n",
        "                            flatList.append(c)\n",
        "        else:\n",
        "            if type(i)==int:\n",
        "                flatList.append(i)\n",
        "    print(flatList)\n",
        "    a = reduce(lambda x,y : x*y , flatList)\n",
        "    return a\n",
        "list1 = [1,2,3,4, [44,55,66, True], False, (34,56,78,89,34), {1,2,3,3,2,1}, {1:34, \"key2\": [55, 67, 78, 89], 4: (45, 22, 61, 34)}, [56, 'data science'], 'Machine Learning']\n",
        "print(product(list1))"
      ],
      "metadata": {
        "colab": {
          "base_uri": "https://localhost:8080/"
        },
        "id": "hizKXuFXjZl8",
        "outputId": "ac3a9641-01e2-4811-d126-9e23258388f7"
      },
      "execution_count": 32,
      "outputs": [
        {
          "output_type": "stream",
          "name": "stdout",
          "text": [
            "[1, 2, 3, 4, 44, 55, 66, 34, 56, 78, 89, 34, 1, 2, 3, 1, 4, 34, 55, 67, 78, 89, 45, 22, 61, 34, 56]\n",
            "4134711838987085478833841242112000\n"
          ]
        }
      ]
    },
    {
      "cell_type": "markdown",
      "source": [
        "Q2. Write a python program for encrypting a message sent to you by your friend. The logic of encryption\n",
        "should be such that, for a the output should be z. For b, the output should be y. For c, the output should\n",
        "be x respectively. Also, the whitespace should be replaced with a dollar sign. Keep the punctuation\n",
        "marks unchanged.\n",
        "Input Sentence: I want to become a Data Scientist.\n",
        "Encrypt the above input sentence using the program you just created.\n",
        "Note: Convert the given input sentence into lowercase before encrypting. The final output should be\n",
        "lowercase."
      ],
      "metadata": {
        "id": "MA1vz6Brgst9"
      }
    },
    {
      "cell_type": "code",
      "source": [
        "str1 = \"I want to become a Data Scientist.\"\n",
        "def encrypt(stri):\n",
        "  stri = stri.lower()\n",
        "  stri = stri.replace(\"a\",\"z\").replace(\"b\",\"y\").replace(\"c\",\"x\")\n",
        "  return stri\n",
        "\n",
        "encrypt(str1)\n"
      ],
      "metadata": {
        "colab": {
          "base_uri": "https://localhost:8080/",
          "height": 36
        },
        "id": "3RqvnCrHfiFB",
        "outputId": "cadfc866-ad19-42e6-d3fb-124cfd7c0ee9"
      },
      "execution_count": 33,
      "outputs": [
        {
          "output_type": "execute_result",
          "data": {
            "text/plain": [
              "'i wznt to yexome z dztz sxientist.'"
            ],
            "application/vnd.google.colaboratory.intrinsic+json": {
              "type": "string"
            }
          },
          "metadata": {},
          "execution_count": 33
        }
      ]
    }
  ]
}