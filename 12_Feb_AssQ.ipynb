{
  "nbformat": 4,
  "nbformat_minor": 0,
  "metadata": {
    "colab": {
      "provenance": []
    },
    "kernelspec": {
      "name": "python3",
      "display_name": "Python 3"
    },
    "language_info": {
      "name": "python"
    }
  },
  "cells": [
    {
      "cell_type": "markdown",
      "source": [
        "Q1. What is an Exception in python? Write the difference between Exceptions and Syntax Errors\n",
        "\n",
        "* Errors stop the execution of a program. When the proper syntax of the language is not followed then a syntax error is thrown.\n",
        "\n",
        "\n",
        "* Exceptions are raised when some internal events occur which changes the normal flow of the program. When in the runtime an error that occurs after passing the syntax test is called exception or logical error."
      ],
      "metadata": {
        "id": "UjABcmpa2F2W"
      }
    },
    {
      "cell_type": "markdown",
      "source": [
        "Q2. What happens when an exception is not handled? Explain with an example.\n",
        "\n",
        "If an exception is not handled, the program/code will crash while running and an exception message will be showed on console. "
      ],
      "metadata": {
        "id": "YkVGjnKR3A9O"
      }
    },
    {
      "cell_type": "code",
      "source": [
        "a = 10\n",
        "a / 0             # This line will give exception"
      ],
      "metadata": {
        "colab": {
          "base_uri": "https://localhost:8080/",
          "height": 189
        },
        "id": "alX3M-8i2_Bi",
        "outputId": "e285b520-4337-4137-ae70-5bb9b62e4cd0"
      },
      "execution_count": 1,
      "outputs": [
        {
          "output_type": "error",
          "ename": "ZeroDivisionError",
          "evalue": "ignored",
          "traceback": [
            "\u001b[0;31m---------------------------------------------------------------------------\u001b[0m",
            "\u001b[0;31mZeroDivisionError\u001b[0m                         Traceback (most recent call last)",
            "\u001b[0;32m<ipython-input-1-ff23d8b39acd>\u001b[0m in \u001b[0;36m<cell line: 2>\u001b[0;34m()\u001b[0m\n\u001b[1;32m      1\u001b[0m \u001b[0ma\u001b[0m \u001b[0;34m=\u001b[0m \u001b[0;36m10\u001b[0m\u001b[0;34m\u001b[0m\u001b[0;34m\u001b[0m\u001b[0m\n\u001b[0;32m----> 2\u001b[0;31m \u001b[0ma\u001b[0m \u001b[0;34m/\u001b[0m \u001b[0;36m0\u001b[0m             \u001b[0;31m# This line will give exception\u001b[0m\u001b[0;34m\u001b[0m\u001b[0;34m\u001b[0m\u001b[0m\n\u001b[0m",
            "\u001b[0;31mZeroDivisionError\u001b[0m: division by zero"
          ]
        }
      ]
    },
    {
      "cell_type": "markdown",
      "source": [
        "Q3. Which Python statements are used to catch and handle exceptions? Explain with an example\n",
        "\n",
        "try, except, else, finally are mostly used in exception handling"
      ],
      "metadata": {
        "id": "cHGBY3mB3sev"
      }
    },
    {
      "cell_type": "code",
      "source": [
        "a = 10\n",
        "try:\n",
        "  a/0\n",
        "except Exception as e:\n",
        "  print(e)\n",
        "else:\n",
        "  print(\"this line will run if there is no exception in try\")\n",
        "finally:\n",
        "  print(\"this line will run always\")"
      ],
      "metadata": {
        "colab": {
          "base_uri": "https://localhost:8080/"
        },
        "id": "F3U1mqNG3hm6",
        "outputId": "b63d08de-29cb-4473-b740-e9d4dc65c87b"
      },
      "execution_count": 2,
      "outputs": [
        {
          "output_type": "stream",
          "name": "stdout",
          "text": [
            "division by zero\n",
            "this line will run always\n"
          ]
        }
      ]
    },
    {
      "cell_type": "code",
      "source": [
        "a = 10\n",
        "try:\n",
        "  a/10\n",
        "except Exception as e:\n",
        "  print(e)\n",
        "else:\n",
        "  print(\"this line will run if there is no exception in try\")\n",
        "finally:\n",
        "  print(\"this line will run always\")"
      ],
      "metadata": {
        "colab": {
          "base_uri": "https://localhost:8080/"
        },
        "id": "tQyNUvsD4F4U",
        "outputId": "d2d574ad-2b64-4467-f79e-2185e3f1b635"
      },
      "execution_count": 3,
      "outputs": [
        {
          "output_type": "stream",
          "name": "stdout",
          "text": [
            "this line will run if there is no exception in try\n",
            "this line will run always\n"
          ]
        }
      ]
    },
    {
      "cell_type": "markdown",
      "source": [
        "Q4. Explain with an Example  -> try and else,  finally, raise"
      ],
      "metadata": {
        "id": "TKtnou3z4YlN"
      }
    },
    {
      "cell_type": "code",
      "source": [
        "#try and else\n",
        "\n",
        "try:\n",
        "  a = \"Abhay\"\n",
        "  a[7]\n",
        "except Exception as e:\n",
        "  print(e)\n",
        "else:\n",
        "  print(\"code is correct\")"
      ],
      "metadata": {
        "colab": {
          "base_uri": "https://localhost:8080/"
        },
        "id": "XuJTu6KF4SsQ",
        "outputId": "58c2b356-0039-476a-f249-028bd1e9b1c2"
      },
      "execution_count": 4,
      "outputs": [
        {
          "output_type": "stream",
          "name": "stdout",
          "text": [
            "string index out of range\n"
          ]
        }
      ]
    },
    {
      "cell_type": "code",
      "source": [
        "#try and else\n",
        "\n",
        "try:\n",
        "  a = \"Abhay\"\n",
        "  a[2]\n",
        "except Exception as e:\n",
        "  print(e)\n",
        "else:\n",
        "  print(\"code is correct\")"
      ],
      "metadata": {
        "colab": {
          "base_uri": "https://localhost:8080/"
        },
        "id": "gwY2Jqo34yS8",
        "outputId": "408bab7b-6931-41f7-d2c9-4705314957c4"
      },
      "execution_count": 5,
      "outputs": [
        {
          "output_type": "stream",
          "name": "stdout",
          "text": [
            "code is correct\n"
          ]
        }
      ]
    },
    {
      "cell_type": "code",
      "source": [
        "# finally\n",
        "\n",
        "try:\n",
        "  a = \"Abhay\"\n",
        "  a[2]\n",
        "except Exception as e:\n",
        "  print(e)\n",
        "else:\n",
        "  print(\"code is correct\")\n",
        "finally:\n",
        "  print(\" I will always run \")"
      ],
      "metadata": {
        "colab": {
          "base_uri": "https://localhost:8080/"
        },
        "id": "Tv6AEU7749Rb",
        "outputId": "f9e25e31-174b-4ddb-ea07-0bfabfa87d46"
      },
      "execution_count": 6,
      "outputs": [
        {
          "output_type": "stream",
          "name": "stdout",
          "text": [
            "code is correct\n",
            " I will always run \n"
          ]
        }
      ]
    },
    {
      "cell_type": "code",
      "source": [
        "try:\n",
        "  a = \"Abhay\"\n",
        "  a[19]\n",
        "except Exception as e:\n",
        "  print(e)\n",
        "else:\n",
        "  print(\"code is correct\")\n",
        "finally:\n",
        "  print(\" I will always run \")"
      ],
      "metadata": {
        "colab": {
          "base_uri": "https://localhost:8080/"
        },
        "id": "-h9HgmGj5Hgz",
        "outputId": "b59811e7-280b-403f-fad6-7fedb34ab0e8"
      },
      "execution_count": 7,
      "outputs": [
        {
          "output_type": "stream",
          "name": "stdout",
          "text": [
            "string index out of range\n",
            " I will always run \n"
          ]
        }
      ]
    },
    {
      "cell_type": "code",
      "source": [
        "# raise\n",
        "\n",
        "def valid_age(age):\n",
        "  if age < 0:\n",
        "    raise Exception(\"age cannot be less than 0\")\n",
        "  elif age >200 :\n",
        "    raise Exception(\"age too high \")\n",
        "  else:\n",
        "    print(\"Valid age\")\n",
        "\n",
        "\n",
        "try:\n",
        "  age = int(input(\"Enter valid age: \"))\n",
        "  valid_age(age)\n",
        "except Exception as e:\n",
        "  print(e)"
      ],
      "metadata": {
        "colab": {
          "base_uri": "https://localhost:8080/"
        },
        "id": "2lbAmsgC5JzG",
        "outputId": "c596ac9d-0541-4922-a3d4-b86d5b7b7b2f"
      },
      "execution_count": 8,
      "outputs": [
        {
          "output_type": "stream",
          "name": "stdout",
          "text": [
            "Enter valid age: 25\n",
            "Valid age\n"
          ]
        }
      ]
    },
    {
      "cell_type": "code",
      "source": [
        "\n",
        "try:\n",
        "  age = int(input(\"Enter valid age: \"))\n",
        "  valid_age(age)\n",
        "except Exception as e:\n",
        "  print(e)\n",
        "  "
      ],
      "metadata": {
        "colab": {
          "base_uri": "https://localhost:8080/"
        },
        "id": "M8jsnSX85V2R",
        "outputId": "e888bd77-5022-441d-df95-ac81a25dd461"
      },
      "execution_count": 9,
      "outputs": [
        {
          "output_type": "stream",
          "name": "stdout",
          "text": [
            "Enter valid age: -122\n",
            "age cannot be less than 0\n"
          ]
        }
      ]
    },
    {
      "cell_type": "code",
      "source": [
        "\n",
        "try:\n",
        "  age = int(input(\"Enter valid age: \"))\n",
        "  valid_age(age)\n",
        "except Exception as e:\n",
        "  print(e)\n",
        "     "
      ],
      "metadata": {
        "colab": {
          "base_uri": "https://localhost:8080/"
        },
        "id": "KrZiUUKQ5bL0",
        "outputId": "781b9a31-2c65-4ba3-cc89-4a9c05371a4d"
      },
      "execution_count": 11,
      "outputs": [
        {
          "output_type": "stream",
          "name": "stdout",
          "text": [
            "Enter valid age: 656\n",
            "age too high \n"
          ]
        }
      ]
    },
    {
      "cell_type": "markdown",
      "source": [
        "Q.5 What are custom exceptions in python? Explain with an example.\n",
        "\n",
        "In Python, we can define custom exceptions by creating a new class that is derived from the built-in Exception class. It can be used to prevent abnormal termination of a program.\n",
        "\n",
        "Q6. Create custom exception class. Use this class to handle an exception."
      ],
      "metadata": {
        "id": "a1a3IqBtwvI8"
      }
    },
    {
      "cell_type": "code",
      "source": [
        "class validate_voter_age(Exception):\n",
        "  def __init__(self, msg):\n",
        "    self.msg = msg\n",
        "\n",
        "def voterage(age):\n",
        "  if age < 18 and age > 0:\n",
        "    raise validate_voter_age(\"Age should be more than 18\")\n",
        "  elif age < 0 :\n",
        "    raise validate_voter_age(\"age cannot be -ve\")\n",
        "  elif age > 200:\n",
        "    raise validate_voter_age(\"age too high\")\n",
        "  else:\n",
        "    print(\"You can vote \")\n",
        "\n",
        "try:\n",
        "  age = int(input(\"Enter age: \"))\n",
        "  voterage(age)\n",
        "except validate_voter_age as e:\n",
        "  print(e)"
      ],
      "metadata": {
        "id": "DZqszm9V5doX",
        "colab": {
          "base_uri": "https://localhost:8080/"
        },
        "outputId": "959659cb-a5cf-46f6-db76-5412427f9f86"
      },
      "execution_count": 16,
      "outputs": [
        {
          "output_type": "stream",
          "name": "stdout",
          "text": [
            "Enter age: -65\n",
            "age cannot be -ve\n"
          ]
        }
      ]
    },
    {
      "cell_type": "code",
      "source": [
        "try:\n",
        "  age = int(input(\"Enter age: \"))\n",
        "  voterage(age)\n",
        "except validate_voter_age as e:\n",
        "  print(e)"
      ],
      "metadata": {
        "colab": {
          "base_uri": "https://localhost:8080/"
        },
        "id": "j1c1KjBbyZ9X",
        "outputId": "495cf831-aa38-40ba-b03d-016eeff096ea"
      },
      "execution_count": 17,
      "outputs": [
        {
          "output_type": "stream",
          "name": "stdout",
          "text": [
            "Enter age: -3\n",
            "age cannot be -ve\n"
          ]
        }
      ]
    },
    {
      "cell_type": "code",
      "source": [
        "try:\n",
        "  age = int(input(\"Enter age: \"))\n",
        "  voterage(age)\n",
        "except validate_voter_age as e:\n",
        "  print(e)"
      ],
      "metadata": {
        "colab": {
          "base_uri": "https://localhost:8080/"
        },
        "id": "Q6h680W5yxma",
        "outputId": "759f4d43-4b84-44c9-d27c-cde4905f781d"
      },
      "execution_count": 18,
      "outputs": [
        {
          "output_type": "stream",
          "name": "stdout",
          "text": [
            "Enter age: 233\n",
            "age too high\n"
          ]
        }
      ]
    }
  ]
}