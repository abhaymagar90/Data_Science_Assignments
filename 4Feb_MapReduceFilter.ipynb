{
  "cells": [
    {
      "cell_type": "markdown",
      "metadata": {
        "id": "eRzNWPTiOwGo"
      },
      "source": [
        "# 04 Feb_Assignment"
      ]
    },
    {
      "cell_type": "markdown",
      "metadata": {
        "id": "tq3v-LOWO_Uh"
      },
      "source": [
        "***Q1. Create a python program to sort the given list of tuples based on integer value using a lambda function.***\n"
      ]
    },
    {
      "cell_type": "code",
      "execution_count": 21,
      "metadata": {
        "colab": {
          "base_uri": "https://localhost:8080/"
        },
        "id": "QHEkDRqhOpb4",
        "outputId": "31444c93-ba21-4497-fe88-b09fc7827956"
      },
      "outputs": [
        {
          "output_type": "stream",
          "name": "stdout",
          "text": [
            "[('Sachin Tendulkar', 34357), ('Ricky Ponting', 27483), ('Jack Kallis', 25534), ('Virat Kohli', 24936)]\n",
            "[('Virat Kohli', 24936), ('Jack Kallis', 25534), ('Ricky Ponting', 27483), ('Sachin Tendulkar', 34357)]\n"
          ]
        }
      ],
      "source": [
        "l1 = [('Sachin Tendulkar', 34357), ('Ricky Ponting', 27483), ('Jack Kallis', 25534), ('Virat Kohli', 24936)]\n",
        "\n",
        "print(l1)\n",
        "l1.sort(key = lambda x: x[1])\n",
        "print(l1)"
      ]
    },
    {
      "cell_type": "markdown",
      "source": [
        "***Q2. Write a Python Program to find the squares of all the numbers in the given list of integers using lambda and map functions. [1, 2, 3, 4, 5, 6, 7, 8, 9, 10]***"
      ],
      "metadata": {
        "id": "uo3a9B4xRUVO"
      }
    },
    {
      "cell_type": "code",
      "source": [
        "lst = [1, 2, 3, 4, 5, 6, 7, 8, 9, 10]\n",
        "\n",
        "list( map( lambda x : x**2, lst ) )"
      ],
      "metadata": {
        "colab": {
          "base_uri": "https://localhost:8080/"
        },
        "id": "Eiw1sEHiRZfC",
        "outputId": "5ecdbefb-040d-447b-fcbb-453271c87d4a"
      },
      "execution_count": 22,
      "outputs": [
        {
          "output_type": "execute_result",
          "data": {
            "text/plain": [
              "[1, 4, 9, 16, 25, 36, 49, 64, 81, 100]"
            ]
          },
          "metadata": {},
          "execution_count": 22
        }
      ]
    },
    {
      "cell_type": "markdown",
      "source": [
        "***Q3. Write a python program to convert the given list of integers into a tuple of strings. Use map and lambda functions Given String: [1, 2, 3, 4, 5, 6, 7, 8, 9, 10] Expected output: ('1', '2', '3', '4', '5', '6', '7', '8', '9', '10')***"
      ],
      "metadata": {
        "id": "_xhsR0uWRjzX"
      }
    },
    {
      "cell_type": "code",
      "source": [
        "lst = [1,2,3,4,5,6,7,8,9,10]\n",
        "\n",
        "tuple( map( lambda x:str(x), lst ) )"
      ],
      "metadata": {
        "colab": {
          "base_uri": "https://localhost:8080/"
        },
        "id": "T1wRx2ShRfQJ",
        "outputId": "afd6d97a-12c3-4060-ea9a-140a52d80634"
      },
      "execution_count": 23,
      "outputs": [
        {
          "output_type": "execute_result",
          "data": {
            "text/plain": [
              "('1', '2', '3', '4', '5', '6', '7', '8', '9', '10')"
            ]
          },
          "metadata": {},
          "execution_count": 23
        }
      ]
    },
    {
      "cell_type": "markdown",
      "source": [
        "***Q4. Write a python program using reduce function to compute the product of a list containing numbers from 1 to 25.***"
      ],
      "metadata": {
        "id": "Ees8I4TxR7jZ"
      }
    },
    {
      "cell_type": "code",
      "source": [
        "from functools import reduce\n",
        "\n",
        "l1 = []\n",
        "for i in range(1,26):\n",
        "  l1.append(i)\n",
        "print(l1)\n",
        "\n",
        "reduce( lambda x,y: x*y, l1 )"
      ],
      "metadata": {
        "colab": {
          "base_uri": "https://localhost:8080/"
        },
        "id": "-wdc5RkORxRD",
        "outputId": "3eb6cd02-5989-420e-b1f7-4ed8434cecf3"
      },
      "execution_count": 24,
      "outputs": [
        {
          "output_type": "stream",
          "name": "stdout",
          "text": [
            "[1, 2, 3, 4, 5, 6, 7, 8, 9, 10, 11, 12, 13, 14, 15, 16, 17, 18, 19, 20, 21, 22, 23, 24, 25]\n"
          ]
        },
        {
          "output_type": "execute_result",
          "data": {
            "text/plain": [
              "15511210043330985984000000"
            ]
          },
          "metadata": {},
          "execution_count": 24
        }
      ]
    },
    {
      "cell_type": "markdown",
      "source": [
        "***Q5. Write a python program to filter the numbers in a given list that are divisible by 2 and 3 using the filter function. [2, 3, 6, 9, 27, 60, 90, 120, 55, 46]***"
      ],
      "metadata": {
        "id": "SFhZ_QMxTRLx"
      }
    },
    {
      "cell_type": "code",
      "source": [
        "lst2 = [2, 3, 6, 9, 27, 60, 90, 120, 55, 46]\n",
        "\n",
        "list( filter(lambda x : x%2==0 and x%3==0, lst2) )"
      ],
      "metadata": {
        "colab": {
          "base_uri": "https://localhost:8080/"
        },
        "id": "q2eoESlySXk7",
        "outputId": "572e0844-134b-4154-e9da-8b6abad364da"
      },
      "execution_count": 25,
      "outputs": [
        {
          "output_type": "execute_result",
          "data": {
            "text/plain": [
              "[6, 60, 90, 120]"
            ]
          },
          "metadata": {},
          "execution_count": 25
        }
      ]
    },
    {
      "cell_type": "markdown",
      "source": [
        "# **Q6. Write a python program to find palindromes in the given list of strings using lambda and filter function. ['python', 'php', 'aba', 'radar', 'level']**"
      ],
      "metadata": {
        "id": "-rD6D1_5TjuX"
      }
    },
    {
      "cell_type": "code",
      "source": [
        "lst3 = ['python', 'php', 'aba', 'radar', 'level']\n",
        "\n",
        "palim = lambda x : x == (''.join(reversed(x)))\n",
        "list( filter(palim, lst3) )"
      ],
      "metadata": {
        "colab": {
          "base_uri": "https://localhost:8080/"
        },
        "id": "QIKirheoTfC5",
        "outputId": "33028eb8-1aad-4bbd-fb2b-59d0a552ae87"
      },
      "execution_count": 26,
      "outputs": [
        {
          "output_type": "execute_result",
          "data": {
            "text/plain": [
              "['php', 'aba', 'radar', 'level']"
            ]
          },
          "metadata": {},
          "execution_count": 26
        }
      ]
    }
  ],
  "metadata": {
    "colab": {
      "provenance": []
    },
    "kernelspec": {
      "display_name": "Python 3",
      "name": "python3"
    },
    "language_info": {
      "name": "python"
    }
  },
  "nbformat": 4,
  "nbformat_minor": 0
}