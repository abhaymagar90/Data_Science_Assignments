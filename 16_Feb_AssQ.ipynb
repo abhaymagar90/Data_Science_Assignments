{
  "nbformat": 4,
  "nbformat_minor": 0,
  "metadata": {
    "colab": {
      "provenance": []
    },
    "kernelspec": {
      "name": "python3",
      "display_name": "Python 3"
    },
    "language_info": {
      "name": "python"
    }
  },
  "cells": [
    {
      "cell_type": "markdown",
      "source": [
        "Q1. What is a database? Differentiate between SQL and NoSQL databases.\n",
        "\n",
        "A database is an organized collection of data, so that it can be easily accessed and managed.\n",
        "\n",
        "* SQL is relational whereas NoSQL is non-relational \n",
        "* SQL databases have fixed schema whereas NoSQL databases have dynamic schema\n",
        "* SQL is good for complex queries whereas NoSQL is not good for complex queries\n",
        "* SQL is vertically scalable whereas NoSQL is horizontally scalable.\n",
        "* SQL followas ACID whereas NoSQL follows CAP\n"
      ],
      "metadata": {
        "id": "jCAll7d5QGg1"
      }
    },
    {
      "cell_type": "markdown",
      "source": [
        "Q2. What is DDL? Explain why CREATE, DROP, ALTER, and TRUNCATE are used with an example.\n",
        "\n",
        "DDL consist of Commands to commands like CREATE, ALTER, TRUNCATE and DROP. These commands are used to create or modify the tables in SQL.\n",
        "\n",
        "* CREATE - It is used to create tables.\n",
        "\n",
        "eg  -  create table test(c1 int, c2 float)\n",
        "\n",
        "* Alter - It is used to add, delete or change columns in the existing table\n",
        "\n",
        "eg  -  ALTER TABLE test ADD c3 varchar(30)\n",
        "\n",
        "* DROP - This command is used to remove an existing table along with its structure from the Database.\n",
        "\n",
        "eg  -  drop table test\n",
        "\n",
        "* TRUNCATE - This command is used to remove all rows from the table, but the structure of the table still exists.\n",
        "\n",
        "eg - truncate table test\n",
        "\n"
      ],
      "metadata": {
        "id": "R2zGf8YmSJgt"
      }
    },
    {
      "cell_type": "markdown",
      "source": [
        "Q3. What is DML? Explain INSERT, UPDATE, and DELETE with an example.\n",
        "\n",
        "DML stands for Data Manipulation Language. \n",
        "\n",
        "* INSERT Command – This command is used to enter the information or values into a row.\n",
        "\n",
        "eg  -  insert into test values(5,\"Abhay\")\n",
        "\n",
        "* UPDATE Command – This command is used to alter existing table records. \n",
        "\n",
        "eg  -  update test set fees = 20000 where name = \"Abhay\"\n",
        "\n",
        "* Delete Command -  This command is used to erase some or all of the previous table’s records.\n",
        "\n",
        "eg  -  delete from test where id = 5"
      ],
      "metadata": {
        "id": "-v1ROHoyT3W8"
      }
    },
    {
      "cell_type": "markdown",
      "source": [
        "Q4. What is DQL? Explain SELECT with an example.\n",
        "\n",
        "DQL - It is used for retrieving data. A user can retrieve data according to his/her requirements using the select command. \n",
        "\n",
        "eg  -  select * from employee; "
      ],
      "metadata": {
        "id": "wPOXir0WW9W0"
      }
    },
    {
      "cell_type": "markdown",
      "source": [
        "Q5. Explain Primary Key and Foreign Key.\n",
        "\n",
        "Primary Key - A primary key generally focuses on the uniqueness of the table. It is a column or a set of columns that uniquely distinguishes every row in the database. It means it should not have any duplicate value. Also, it doesn’t contain a NULL value.\n",
        "\n",
        "Foreign Key - A foreign key is generally used to build a relationship between the two tables. The major purpose of the foreign key is to sustain data integrity between two separate instances of an entity.\n"
      ],
      "metadata": {
        "id": "NilHgmj3XJoF"
      }
    },
    {
      "cell_type": "markdown",
      "source": [
        "Q6. Write a python code to connect MySQL to python. Explain the cursor() and execute() method.\n",
        "\n"
      ],
      "metadata": {
        "id": "sUH0duDdXX46"
      }
    },
    {
      "cell_type": "code",
      "source": [
        "import mysql.connector\n",
        "\n",
        "mydb = mysql.connector.connect(\n",
        "  host=\"localhost\",\n",
        "  user=\"yourusername\",\n",
        "  password=\"yourpassword\"\n",
        ")\n",
        "\n",
        "print(mydb)\n",
        "\n",
        "mycursor = mydb.cursor()\n",
        "\n",
        "mycursor.execute(\"CREATE DATABASE mydatabase\")"
      ],
      "metadata": {
        "id": "lF3HZ_Sk5qyF"
      },
      "execution_count": null,
      "outputs": []
    },
    {
      "cell_type": "markdown",
      "source": [
        "cursor() - A cursor is an object which helps to execute the query and fetch the records from the database. The cursor plays a very important role in executing the query. \n",
        "\n",
        "execute() - The execute () method helps us to execute the query and return records according to the query. "
      ],
      "metadata": {
        "id": "QXTuJko_6PAj"
      }
    },
    {
      "cell_type": "markdown",
      "source": [
        "Q7. Give the order of execution of SQL clauses in an SQL query."
      ],
      "metadata": {
        "id": "HJrZkXfw6jxd"
      }
    },
    {
      "cell_type": "markdown",
      "source": [
        "  FROM\t - Tables are joined to get the base data.\n",
        "  \n",
        "  WHERE\t- The base data is filtered\n",
        "\n",
        "  GROUP BY -\tThe filtered base data is grouped.\n",
        "\n",
        "  HAVING\t- The grouped base data is filtered.\n",
        "\n",
        "  SELECT\t- The final data is returned.\n",
        "\n",
        "  ORDER BY\t- The final data is sorted.\n",
        "\n",
        "  LIMIT\t- The returned data is limited to row count.\n"
      ],
      "metadata": {
        "id": "DplHKn9i6suF"
      }
    }
  ]
}