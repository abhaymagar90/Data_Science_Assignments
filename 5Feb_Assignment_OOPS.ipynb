{
  "nbformat": 4,
  "nbformat_minor": 0,
  "metadata": {
    "colab": {
      "provenance": []
    },
    "kernelspec": {
      "name": "python3",
      "display_name": "Python 3"
    },
    "language_info": {
      "name": "python"
    }
  },
  "cells": [
    {
      "cell_type": "markdown",
      "source": [
        "***Q1. Explain Class and Object with respect to Object-Oriented Programming. Give a suitable example.***\n",
        "\n",
        "In OOP, class is nothing but a real world entity which is a blueprint which defines some properties and behaviors. An object is an instance of a class which contains those properties or behaviours."
      ],
      "metadata": {
        "id": "hREmrMCE0epm"
      }
    },
    {
      "cell_type": "code",
      "execution_count": 2,
      "metadata": {
        "colab": {
          "base_uri": "https://localhost:8080/",
          "height": 36
        },
        "id": "UOBicd_k0ALI",
        "outputId": "4de25583-a353-40e7-83ae-6dfab5c9be6d"
      },
      "outputs": [
        {
          "output_type": "execute_result",
          "data": {
            "text/plain": [
              "'Welcome to the world of data science'"
            ],
            "application/vnd.google.colaboratory.intrinsic+json": {
              "type": "string"
            }
          },
          "metadata": {},
          "execution_count": 2
        }
      ],
      "source": [
        "class datascience:\n",
        "\n",
        "  def show(self):\n",
        "    return \"Welcome to the world of data science\"\n",
        "\n",
        "a = datascience()\n",
        "a.show()\n",
        "\n",
        "# classname -> datascience         objectname -> a"
      ]
    },
    {
      "cell_type": "markdown",
      "source": [
        "***Q2. Name the four pillars of OOPs.***\n",
        "\n",
        "**Abstraction, Encapsulation, Inheritance, Polymorphism**"
      ],
      "metadata": {
        "id": "PzWoxd4d2Hou"
      }
    },
    {
      "cell_type": "markdown",
      "source": [
        "***Q3. Explain why the __init__() function is used. Give a suitable example.***\n",
        "\n",
        "The __init__ method lets the class initialize the object's attributes. It must be present within a class itself"
      ],
      "metadata": {
        "id": "T5jv2Epn2YMg"
      }
    },
    {
      "cell_type": "code",
      "source": [
        "class test:\n",
        "\n",
        "  def __init__(self, rollno, name, marks):\n",
        "    self.name = name\n",
        "    self.rollno = rollno\n",
        "    self.marks = marks\n",
        "\n",
        "  def show(self):\n",
        "    print(f\"Roll no = {self.rollno}\")\n",
        "    print(f\"Makrs  = {self.marks}\")\n",
        "    print(f\"name = {self.name}\")\n",
        "\n",
        "s1 = test(34, \"Abhay Magar\", 98)\n",
        "s1.show()"
      ],
      "metadata": {
        "colab": {
          "base_uri": "https://localhost:8080/"
        },
        "id": "WYbjWd9m1Mb-",
        "outputId": "740fb11e-6e99-425c-f959-7a0d7b2b35f6"
      },
      "execution_count": 3,
      "outputs": [
        {
          "output_type": "stream",
          "name": "stdout",
          "text": [
            "Roll no = 34\n",
            "Makrs  = 98\n",
            "name = Abhay Magar\n"
          ]
        }
      ]
    },
    {
      "cell_type": "code",
      "source": [
        "s1.rollno "
      ],
      "metadata": {
        "colab": {
          "base_uri": "https://localhost:8080/"
        },
        "id": "_PMOhuoE3Mre",
        "outputId": "dbf37ea7-4579-4afc-b5e7-fec7bf578295"
      },
      "execution_count": 4,
      "outputs": [
        {
          "output_type": "execute_result",
          "data": {
            "text/plain": [
              "34"
            ]
          },
          "metadata": {},
          "execution_count": 4
        }
      ]
    },
    {
      "cell_type": "markdown",
      "source": [
        "***Q4. Why self is used in OOPs?***\n",
        "\n",
        "The self is used to represent the instance of the class. With this keyword, you can access the attributes and methods of the class in python. It binds the attributes with the given arguments. \n",
        "\n",
        "Note : TO ACCESS VARIABLE INSIDE CLASS WE USE, --> SELF.VARIABLENAME"
      ],
      "metadata": {
        "id": "C0Y8YMhW3Uap"
      }
    },
    {
      "cell_type": "markdown",
      "source": [
        "Q5. What is inheritance? Give an example for each type of inheritance.\n",
        "\n",
        "Inheritance is a mechanism in which one class acquires the property of another class. For example, a child inherits the traits of his/her parents.\n",
        "\n",
        "The class whose members are inherited is called the base class, and the class that inherits those members is called the derived class."
      ],
      "metadata": {
        "id": "QgC1txjo36s_"
      }
    },
    {
      "cell_type": "code",
      "source": [
        "\n",
        "class Person:\n",
        "\n",
        "    def __init__(self, name):\n",
        "        self.name = name\n",
        "\n",
        "    def getName(self):\n",
        "        return self.name\n",
        "\n",
        "    def isEmployee(self):\n",
        "        return False\n",
        "\n",
        "class Employee(Person):\n",
        " \n",
        "    def isEmployee(self):\n",
        "        return True\n",
        " \n",
        " \n",
        "emp = Person(\"Abhay\") \n",
        "print(emp.getName(), emp.isEmployee())\n",
        " \n",
        "emp = Employee(\"Arnav\")\n",
        "print(emp.getName(), emp.isEmployee())"
      ],
      "metadata": {
        "colab": {
          "base_uri": "https://localhost:8080/"
        },
        "id": "zIrpEdnN4dcG",
        "outputId": "9d2c0a87-d6ef-42f9-faaa-8f99ce1445fd"
      },
      "execution_count": 7,
      "outputs": [
        {
          "output_type": "stream",
          "name": "stdout",
          "text": [
            "Abhay False\n",
            "Arnav True\n"
          ]
        }
      ]
    }
  ]
}