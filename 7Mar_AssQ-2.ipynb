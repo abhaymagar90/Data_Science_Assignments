{
  "nbformat": 4,
  "nbformat_minor": 0,
  "metadata": {
    "colab": {
      "provenance": []
    },
    "kernelspec": {
      "name": "python3",
      "display_name": "Python 3"
    },
    "language_info": {
      "name": "python"
    }
  },
  "cells": [
    {
      "cell_type": "markdown",
      "source": [
        "Q1. What are the three measures of central tendency?\n",
        "\n",
        "Mean, Median, Mode are the three measures of central tendency"
      ],
      "metadata": {
        "id": "mkOLk3WoDnyf"
      }
    },
    {
      "cell_type": "markdown",
      "source": [
        "Q2. What is the difference between the mean, median, and mode? How are they used to measure the\n",
        "central tendency of a dataset?\n",
        "\n",
        "* Mean - It is nothing but the average of all the observations in the distribution\n",
        "* Median - It is called as central point of distribution. The dataset is first sorted. Odd no of terms - Middle term is median. Even no of terms - Avg of middle two terms is median\n",
        "* Mode - It is the data point with maximum frequency/ occurence in the distribution"
      ],
      "metadata": {
        "id": "n1BDwhkDDvJR"
      }
    },
    {
      "cell_type": "markdown",
      "source": [
        "Q3. Measure the three measures of central tendency for the given height data:\n",
        "[178,177,176,177,178.2,178,175,179,180,175,178.9,176.2,177,172.5,178,176.5]"
      ],
      "metadata": {
        "id": "wlYhdO0YEJpf"
      }
    },
    {
      "cell_type": "code",
      "execution_count": 2,
      "metadata": {
        "colab": {
          "base_uri": "https://localhost:8080/"
        },
        "id": "Jx-lTEnVDjLO",
        "outputId": "67ad8217-e1c9-413f-fb7c-d7ca1a6fbc5f"
      },
      "outputs": [
        {
          "output_type": "execute_result",
          "data": {
            "text/plain": [
              "177.01875"
            ]
          },
          "metadata": {},
          "execution_count": 2
        }
      ],
      "source": [
        "import numpy as np\n",
        "\n",
        "l1 = [178,177,176,177,178.2,178,175,179,180,175,178.9,176.2,177,172.5,178,176.5]\n",
        "np.mean(l1)"
      ]
    },
    {
      "cell_type": "code",
      "source": [
        "np.median(l1)"
      ],
      "metadata": {
        "colab": {
          "base_uri": "https://localhost:8080/"
        },
        "id": "tzymc-xXEQNM",
        "outputId": "bf776c34-b99c-4b5e-d864-092ea4854d09"
      },
      "execution_count": 3,
      "outputs": [
        {
          "output_type": "execute_result",
          "data": {
            "text/plain": [
              "177.0"
            ]
          },
          "metadata": {},
          "execution_count": 3
        }
      ]
    },
    {
      "cell_type": "code",
      "source": [
        "import statistics\n",
        "\n",
        "statistics.mode(l1)"
      ],
      "metadata": {
        "colab": {
          "base_uri": "https://localhost:8080/"
        },
        "id": "_H1EotXeEhxX",
        "outputId": "0d32318c-7f5d-4093-d5d2-5f0867705d15"
      },
      "execution_count": 5,
      "outputs": [
        {
          "output_type": "execute_result",
          "data": {
            "text/plain": [
              "178"
            ]
          },
          "metadata": {},
          "execution_count": 5
        }
      ]
    },
    {
      "cell_type": "markdown",
      "source": [
        "Q4. Find the standard deviation for the given data:\n",
        "[178,177,176,177,178.2,178,175,179,180,175,178.9,176.2,177,172.5,178,176.5]"
      ],
      "metadata": {
        "id": "YGFrP-TiFqrC"
      }
    },
    {
      "cell_type": "code",
      "source": [
        "l2 = [178,177,176,177,178.2,178,175,179,180,175,178.9,176.2,177,172.5,178,176.5]\n",
        "np.std(l2)"
      ],
      "metadata": {
        "colab": {
          "base_uri": "https://localhost:8080/"
        },
        "id": "TlMzAMg5Eja3",
        "outputId": "009c6acc-11dc-401e-9f68-fbb68418a907"
      },
      "execution_count": 6,
      "outputs": [
        {
          "output_type": "execute_result",
          "data": {
            "text/plain": [
              "1.7885814036548633"
            ]
          },
          "metadata": {},
          "execution_count": 6
        }
      ]
    },
    {
      "cell_type": "markdown",
      "source": [
        "Q5. How are measures of dispersion such as range, variance, and standard deviation used to describe\n",
        "the spread of a dataset? Provide an example.\n",
        "\n",
        "* Range: the difference between the highest and lowest values\n",
        "* Standard deviation: average distance from the mean\n",
        "* Variance: average of squared distances from the mean\n",
        "\n",
        "range for [4,5,2,4,7,1] is 7-1 = 6"
      ],
      "metadata": {
        "id": "k0LrCrurF3rm"
      }
    },
    {
      "cell_type": "code",
      "source": [
        "l3 =  [4,5,2,4,7,1]\n",
        "np.std(l3)"
      ],
      "metadata": {
        "colab": {
          "base_uri": "https://localhost:8080/"
        },
        "id": "-6gPomatFuHM",
        "outputId": "b6f8fe21-8b2e-4fc2-b636-6abcda42c097"
      },
      "execution_count": 7,
      "outputs": [
        {
          "output_type": "execute_result",
          "data": {
            "text/plain": [
              "1.9507833184532708"
            ]
          },
          "metadata": {},
          "execution_count": 7
        }
      ]
    },
    {
      "cell_type": "code",
      "source": [
        "np.var(l3)"
      ],
      "metadata": {
        "colab": {
          "base_uri": "https://localhost:8080/"
        },
        "id": "reiX045dGQkl",
        "outputId": "627d9268-a4a1-44cb-8bdf-a252ff103e73"
      },
      "execution_count": 8,
      "outputs": [
        {
          "output_type": "execute_result",
          "data": {
            "text/plain": [
              "3.8055555555555554"
            ]
          },
          "metadata": {},
          "execution_count": 8
        }
      ]
    },
    {
      "cell_type": "markdown",
      "source": [
        "Q6. What is a Venn diagram?\n",
        "\n",
        "A Venn diagram is an illustration that uses circles to show the relationships among things or finite groups of things."
      ],
      "metadata": {
        "id": "dexjhE-FGVtM"
      }
    },
    {
      "cell_type": "markdown",
      "source": [
        "Q7. For the two given sets A = (2,3,4,5,6,7) & B = (0,2,6,8,10). Find:\n",
        "(i) A intersection B\n",
        "(ii) A ⋃ B"
      ],
      "metadata": {
        "id": "dNVbpTUZGcpe"
      }
    },
    {
      "cell_type": "code",
      "source": [
        "A = {2,3,4,5,6,7}\n",
        "B = {0,2,6,8,10}\n",
        "\n",
        "print(\"Union = \", A | B)\n",
        "print(\"Intersection = \", A & B)"
      ],
      "metadata": {
        "colab": {
          "base_uri": "https://localhost:8080/"
        },
        "id": "0GVHBR1OGRdD",
        "outputId": "3f2f4c4c-ab4a-4630-ae82-8e7d30dc2920"
      },
      "execution_count": 11,
      "outputs": [
        {
          "output_type": "stream",
          "name": "stdout",
          "text": [
            "Union =  {0, 2, 3, 4, 5, 6, 7, 8, 10}\n",
            "Intersection =  {2, 6}\n"
          ]
        }
      ]
    },
    {
      "cell_type": "markdown",
      "source": [
        "Q8. What do you understand about skewness in data?\n",
        "\n",
        "Skewness is a measurement of the distortion of symmetrical distribution or asymmetry in a data set."
      ],
      "metadata": {
        "id": "cDB0LcluHvhr"
      }
    },
    {
      "cell_type": "markdown",
      "source": [
        "Q9. If a data is right skewed then what will be the position of median with respect to mean?\n",
        "\n",
        " If the distribution of data is skewed to the right, the mode is often less than the median, which is less than the mean."
      ],
      "metadata": {
        "id": "y5AC1e7MRdvR"
      }
    },
    {
      "cell_type": "markdown",
      "source": [
        "Q10. Explain the difference between covariance and correlation. How are these measures used in\n",
        "statistical analysis?\n",
        "\n",
        "Covariance indicates the direction of the linear relationship between variables.\n",
        "\n",
        "Correlation on the other hand measures both the strength and direction of the linear relationship between two variables.\n",
        "\n",
        "Covariance can vary between -∞ and +∞\n",
        "\n",
        "Correlation can vary between -1 and +1"
      ],
      "metadata": {
        "id": "-_6QLWoxRonT"
      }
    },
    {
      "cell_type": "markdown",
      "source": [
        "Q11. What is the formula for calculating the sample mean? Provide an example calculation for a\n",
        "dataset.\n",
        "\n",
        "The general formula for calculating the sample mean is given by x̄ = ( Σ xi ) /\n",
        "\n",
        "Mean of [1,2,3,4,5] will be (1+2+3+4+5)/5 = 3"
      ],
      "metadata": {
        "id": "Kn01F5ylSSyI"
      }
    },
    {
      "cell_type": "markdown",
      "source": [
        "Q12. For a normal distribution data what is the relationship between its measure of central tendency?\n",
        "\n",
        "For a normal distribution data, mean = median = mode"
      ],
      "metadata": {
        "id": "01T3oHheSllu"
      }
    },
    {
      "cell_type": "markdown",
      "source": [
        "Q13. How is covariance different from correlation?\n",
        "\n",
        "Covariance indicates the direction of the linear relationship between variables.\n",
        "\n",
        "Correlation on the other hand measures both the strength and direction of the linear relationship between two variables.\n",
        "\n",
        "Covariance can vary between -∞ and +∞\n",
        "\n",
        "Correlation can vary between -1 and +1"
      ],
      "metadata": {
        "id": "sis2aoS9Sr--"
      }
    },
    {
      "cell_type": "markdown",
      "source": [
        "Q14. How do outliers affect measures of central tendency and dispersion? Provide an example.\n",
        "\n",
        "Mean is the only measure of central tendency that is always affected by an outlier.\n",
        "\n",
        "eg -> l1 = [1,2,3,4,5]. Mean of l1 is 3. If an outlier is added.\n",
        "say l1 = [1,2,3,4,5,100]. Mean of l1 becomes 19.16. Hence, difference is too much\n",
        "\n",
        "Range is affected by outliers.\n",
        "The standard deviation is calculated using every observation in the data set. Consequently, it is called a sensitive measure because it will be influenced by outliers.\n",
        "\n",
        "Also Outliers can significantly increase the variance"
      ],
      "metadata": {
        "id": "DHMAvoAJSxCn"
      }
    }
  ]
}