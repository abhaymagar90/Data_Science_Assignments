{
  "nbformat": 4,
  "nbformat_minor": 0,
  "metadata": {
    "colab": {
      "provenance": []
    },
    "kernelspec": {
      "name": "python3",
      "display_name": "Python 3"
    },
    "language_info": {
      "name": "python"
    }
  },
  "cells": [
    {
      "cell_type": "markdown",
      "source": [
        "Q.1] What is multithreading in python? Why is it used? Name the module used to handle threads in python\n",
        "\n",
        "Multithreading is a threading technique in Python programming to run multiple threads concurrently by rapidly switching between threads with a CPU help (called context switching).\n",
        "\n",
        "Multithreading aims to perform multiple tasks simultaneously, which increases performance, speed.\n",
        "\n",
        "threading module is used to handle threading in python."
      ],
      "metadata": {
        "id": "a-DYgDN9O0Wx"
      }
    },
    {
      "cell_type": "markdown",
      "source": [
        "Q.2] Why threading module used?\n",
        "\n",
        "threading module is used to handle threading in python\n",
        "\n",
        "* threading.activeCount() − Returns the number of thread objects that are active.\n",
        "\n",
        "* threading.currentThread() − Returns the number of thread objects in the caller's thread control.\n",
        "\n",
        "* threading.enumerate() − Returns a list of all thread objects that are currently active.\n",
        "\n"
      ],
      "metadata": {
        "id": "qucls1JSPMpJ"
      }
    },
    {
      "cell_type": "markdown",
      "source": [
        "Q.3] Explain the following functions\n",
        "\n",
        "\n",
        "* run - Once a thread object is created, its activity must be started by calling the thread’s start() method. This invokes the run() method in a separate thread of control.\n",
        "\n",
        "* start - It is used to start execution of a thread\n",
        "\n",
        "* join - Wait until the thread terminates. This blocks the calling thread until the thread whose join() method is called terminates – either normally or through an unhandled exception – or until the optional timeout occurs.\n",
        "\n",
        "* isAlive - Return whether the thread is alive.\n",
        "\n",
        "This method returns True just before the run() method starts until just after the run() method terminates."
      ],
      "metadata": {
        "id": "UWzR_zm_QBpK"
      }
    },
    {
      "cell_type": "markdown",
      "source": [
        "Q.4] Write a python program to create two threads. Thread one must print the list of squares and thread\n",
        "two must print the list of cubes"
      ],
      "metadata": {
        "id": "yYmL2n2xQtKq"
      }
    },
    {
      "cell_type": "code",
      "execution_count": null,
      "metadata": {
        "id": "OYC0Rmn6OxOh"
      },
      "outputs": [],
      "source": [
        "import threading\n",
        "\n",
        "thread1 = [threading.Thread(target = lambda x: print(x**2), args = (i,)) for i in [1,2,3,4,5]]"
      ]
    },
    {
      "cell_type": "code",
      "source": [
        "for t in thread1:\n",
        "  t.start()"
      ],
      "metadata": {
        "colab": {
          "base_uri": "https://localhost:8080/"
        },
        "id": "pwtA4yIqRARl",
        "outputId": "6cd525a9-4fcd-49fa-d4d0-b8bae7178f8e"
      },
      "execution_count": null,
      "outputs": [
        {
          "output_type": "stream",
          "name": "stdout",
          "text": [
            "1\n",
            "4\n",
            "9\n",
            "16\n",
            "25"
          ]
        }
      ]
    },
    {
      "cell_type": "code",
      "source": [
        "import threading\n",
        "\n",
        "thread2 = [threading.Thread(target = lambda x: print(x**3), args = (i,)) for i in [1,2,3,4,5]]"
      ],
      "metadata": {
        "id": "cD2L75WCRHDm"
      },
      "execution_count": null,
      "outputs": []
    },
    {
      "cell_type": "code",
      "source": [
        "for t in thread2:\n",
        "  t.start()"
      ],
      "metadata": {
        "id": "ulat5PBMRXlh",
        "outputId": "5f166597-184d-405e-b912-0a3c0c45646f",
        "colab": {
          "base_uri": "https://localhost:8080/"
        }
      },
      "execution_count": null,
      "outputs": [
        {
          "output_type": "stream",
          "name": "stdout",
          "text": [
            "1\n",
            "8\n",
            "27\n",
            "64\n",
            "125\n"
          ]
        }
      ]
    },
    {
      "cell_type": "markdown",
      "source": [
        "Q.5] State advantages and disadvantages of multithreading\n",
        "\n",
        "Advantages:\n",
        "* Enhanced performance by decreased development time\n",
        "* Simplified and streamlined program coding\n",
        "* Improvised GUI responsiveness\n",
        "* Simultaneous and parallelized occurrence of tasks\n",
        "* Better use of cache storage by utilization of resources\n",
        "* Decreased cost of maintenance\n",
        "* Better use of CPU resource\n",
        "\n",
        "Disadvantages:\n",
        "* Complex debugging and testing processes\n",
        "* Overhead switching of context\n",
        "* Increased potential for deadlock occurrence\n",
        "* Increased difficulty level in writing a program\n",
        "* Unpredictable results\n"
      ],
      "metadata": {
        "id": "RIEG8WbmwQzI"
      }
    },
    {
      "cell_type": "markdown",
      "source": [
        "Q.6] Explain deadlocks and race conditions.\n",
        "\n",
        "Deadlock describes a condition in which two or more threads are blocked (hung) forever because they are waiting for each other or waiting for resource/service occupied by other thread\n",
        "\n",
        "A race condition occurs when two threads access a shared variable at the same time.\n"
      ],
      "metadata": {
        "id": "ITYQVjXRyTkZ"
      }
    }
  ]
}