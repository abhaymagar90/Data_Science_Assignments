{
  "nbformat": 4,
  "nbformat_minor": 0,
  "metadata": {
    "colab": {
      "provenance": []
    },
    "kernelspec": {
      "name": "python3",
      "display_name": "Python 3"
    },
    "language_info": {
      "name": "python"
    }
  },
  "cells": [
    {
      "cell_type": "markdown",
      "source": [
        "Q1. Which function is used to open a file? What are the different modes of opening a file? Explain each mode of file opening.\n",
        "\n",
        "open() function is used to open a file"
      ],
      "metadata": {
        "id": "jZ3JkFA-k6b0"
      }
    },
    {
      "cell_type": "code",
      "execution_count": 2,
      "metadata": {
        "id": "scw6OUY6k4-h"
      },
      "outputs": [],
      "source": [
        "f = open(\"test.txt\", \"w\")"
      ]
    },
    {
      "cell_type": "markdown",
      "source": [
        "Different modes to open a file:\n",
        "\n",
        "'r'\tread\n",
        "'w'\tclear and write\n",
        "'x'\tcreate a new file and open it for writing\n",
        "'a'\tappend write\n",
        "'b'\tbinary \n",
        "'t'\ttext mode\n",
        "'+'\topen a disk file for updating (reading and writing)"
      ],
      "metadata": {
        "id": "i3CXQSfGlRmy"
      }
    },
    {
      "cell_type": "markdown",
      "source": [
        "Q2. Why close() function is used? Why is it important to close a file?\n",
        "\n",
        "If we dont close the file, the changes won't be reflected in the file. This means, the writes will be done after file is closed"
      ],
      "metadata": {
        "id": "BukQBB3_lqTL"
      }
    },
    {
      "cell_type": "code",
      "source": [
        "f = open(\"test2.txt\", \"w\")"
      ],
      "metadata": {
        "id": "W1cajwCslFJD"
      },
      "execution_count": 4,
      "outputs": []
    },
    {
      "cell_type": "code",
      "source": [
        "f.write(\"This is first line\")"
      ],
      "metadata": {
        "colab": {
          "base_uri": "https://localhost:8080/"
        },
        "id": "6ROkoeAUl3pI",
        "outputId": "3c69718a-de1b-4e9b-ad07-de199a323bbe"
      },
      "execution_count": 5,
      "outputs": [
        {
          "output_type": "execute_result",
          "data": {
            "text/plain": [
              "18"
            ]
          },
          "metadata": {},
          "execution_count": 5
        }
      ]
    },
    {
      "cell_type": "code",
      "source": [
        "f.close()          # write will happen after this line is executed"
      ],
      "metadata": {
        "id": "JT0WL1eyl774"
      },
      "execution_count": 7,
      "outputs": []
    },
    {
      "cell_type": "markdown",
      "source": [
        "Q3. Write a python program to create a text file. Write ‘I want to become a Data Scientist’ in that file. Then\n",
        "close the file. Open this file and read the content of the file."
      ],
      "metadata": {
        "id": "VfpsLH_ImHdS"
      }
    },
    {
      "cell_type": "code",
      "source": [
        "f = open(\"test3.txt\", \"w\")"
      ],
      "metadata": {
        "id": "u8NT-8U6l--7"
      },
      "execution_count": 23,
      "outputs": []
    },
    {
      "cell_type": "code",
      "source": [
        "f.write(\"I want to become a Data Scientist.\")"
      ],
      "metadata": {
        "colab": {
          "base_uri": "https://localhost:8080/"
        },
        "id": "o1Ru_v2bmLWP",
        "outputId": "75066e35-8a02-442f-84c0-36b179c8bf0b"
      },
      "execution_count": 24,
      "outputs": [
        {
          "output_type": "execute_result",
          "data": {
            "text/plain": [
              "34"
            ]
          },
          "metadata": {},
          "execution_count": 24
        }
      ]
    },
    {
      "cell_type": "code",
      "source": [
        "f.close()"
      ],
      "metadata": {
        "id": "M4w3ftB6mVy6"
      },
      "execution_count": 25,
      "outputs": []
    },
    {
      "cell_type": "code",
      "source": [
        "with open(\"test3.txt\", \"r\") as f:\n",
        "  data =f.read()\n",
        "  print(data)"
      ],
      "metadata": {
        "colab": {
          "base_uri": "https://localhost:8080/"
        },
        "id": "xVv-IPb1mXQh",
        "outputId": "4aac34dd-c9d9-4ae0-d12b-fc15594f0c97"
      },
      "execution_count": 26,
      "outputs": [
        {
          "output_type": "stream",
          "name": "stdout",
          "text": [
            "I want to become a Data Scientist.\n"
          ]
        }
      ]
    },
    {
      "cell_type": "code",
      "source": [
        "import os\n",
        "\n",
        "os.remove(\"test3.txt\")"
      ],
      "metadata": {
        "id": "OeOOIAjFnQJx"
      },
      "execution_count": 65,
      "outputs": []
    },
    {
      "cell_type": "markdown",
      "source": [
        "Q4. Explain the following with python code: read(), readline() and readlines()."
      ],
      "metadata": {
        "id": "GRKOdWTWmj6a"
      }
    },
    {
      "cell_type": "code",
      "source": [
        "f = open(\"test3.txt\", \"w\")"
      ],
      "metadata": {
        "id": "f2Ubca_Pmcu5"
      },
      "execution_count": 66,
      "outputs": []
    },
    {
      "cell_type": "code",
      "source": [
        "f.writelines([\"Apple\\n\", \"Orange\\n\", \"Banana\\n\"]  )"
      ],
      "metadata": {
        "id": "Day2uM8lnvQ8"
      },
      "execution_count": 67,
      "outputs": []
    },
    {
      "cell_type": "code",
      "source": [
        "f.close()"
      ],
      "metadata": {
        "id": "npmXdfDen1uv"
      },
      "execution_count": 68,
      "outputs": []
    },
    {
      "cell_type": "code",
      "source": [
        "f = open(\"test3.txt\", \"r\")"
      ],
      "metadata": {
        "id": "BXYeVLU2n6ZW"
      },
      "execution_count": 69,
      "outputs": []
    },
    {
      "cell_type": "code",
      "source": [
        "f.read()"
      ],
      "metadata": {
        "colab": {
          "base_uri": "https://localhost:8080/",
          "height": 36
        },
        "id": "1fH9PsyJpiEL",
        "outputId": "58093861-75cb-4104-b4d4-66f5e5ff4bf1"
      },
      "execution_count": 70,
      "outputs": [
        {
          "output_type": "execute_result",
          "data": {
            "text/plain": [
              "'Apple\\nOrange\\nBanana\\n'"
            ],
            "application/vnd.google.colaboratory.intrinsic+json": {
              "type": "string"
            }
          },
          "metadata": {},
          "execution_count": 70
        }
      ]
    },
    {
      "cell_type": "code",
      "source": [
        "f.seek(0)"
      ],
      "metadata": {
        "colab": {
          "base_uri": "https://localhost:8080/"
        },
        "id": "02RzHK5hpi49",
        "outputId": "de911d01-9a6b-4b70-9ef2-24ab5a17d064"
      },
      "execution_count": 71,
      "outputs": [
        {
          "output_type": "execute_result",
          "data": {
            "text/plain": [
              "0"
            ]
          },
          "metadata": {},
          "execution_count": 71
        }
      ]
    },
    {
      "cell_type": "code",
      "source": [
        "f.readline()"
      ],
      "metadata": {
        "colab": {
          "base_uri": "https://localhost:8080/",
          "height": 36
        },
        "id": "W5c--btApjrZ",
        "outputId": "da537da5-5947-4074-c85c-adf441257215"
      },
      "execution_count": 72,
      "outputs": [
        {
          "output_type": "execute_result",
          "data": {
            "text/plain": [
              "'Apple\\n'"
            ],
            "application/vnd.google.colaboratory.intrinsic+json": {
              "type": "string"
            }
          },
          "metadata": {},
          "execution_count": 72
        }
      ]
    },
    {
      "cell_type": "code",
      "source": [
        "f.readline()"
      ],
      "metadata": {
        "colab": {
          "base_uri": "https://localhost:8080/",
          "height": 36
        },
        "id": "MlNwDYerplyM",
        "outputId": "9b5b0fc7-2dd8-4a92-c97a-aa92fffe7542"
      },
      "execution_count": 74,
      "outputs": [
        {
          "output_type": "execute_result",
          "data": {
            "text/plain": [
              "'Orange\\n'"
            ],
            "application/vnd.google.colaboratory.intrinsic+json": {
              "type": "string"
            }
          },
          "metadata": {},
          "execution_count": 74
        }
      ]
    },
    {
      "cell_type": "code",
      "source": [
        "f.readline()"
      ],
      "metadata": {
        "colab": {
          "base_uri": "https://localhost:8080/",
          "height": 36
        },
        "id": "X-Pm7EnEpm95",
        "outputId": "c17ad2fe-74da-4658-bb94-951056fd545f"
      },
      "execution_count": 75,
      "outputs": [
        {
          "output_type": "execute_result",
          "data": {
            "text/plain": [
              "'Banana\\n'"
            ],
            "application/vnd.google.colaboratory.intrinsic+json": {
              "type": "string"
            }
          },
          "metadata": {},
          "execution_count": 75
        }
      ]
    },
    {
      "cell_type": "code",
      "source": [
        "f.seek(0)"
      ],
      "metadata": {
        "colab": {
          "base_uri": "https://localhost:8080/"
        },
        "id": "T2FDs4r2pqrO",
        "outputId": "67aaa763-391a-411c-b8cb-457be48c6931"
      },
      "execution_count": 76,
      "outputs": [
        {
          "output_type": "execute_result",
          "data": {
            "text/plain": [
              "0"
            ]
          },
          "metadata": {},
          "execution_count": 76
        }
      ]
    },
    {
      "cell_type": "code",
      "source": [
        "f.readlines()"
      ],
      "metadata": {
        "colab": {
          "base_uri": "https://localhost:8080/"
        },
        "id": "FqyAv-Gcpr2V",
        "outputId": "5a552394-f1d5-4f19-9058-bd7b0e0394f9"
      },
      "execution_count": 77,
      "outputs": [
        {
          "output_type": "execute_result",
          "data": {
            "text/plain": [
              "['Apple\\n', 'Orange\\n', 'Banana\\n']"
            ]
          },
          "metadata": {},
          "execution_count": 77
        }
      ]
    },
    {
      "cell_type": "markdown",
      "source": [
        "Q5. Explain why with statement is used with open(). What is the advantage of using with statement and\n",
        "open() together?\n",
        "\n",
        "Unlike open() where you have to close the file with the close() method, the with statement closes the file for you without you telling it to. \n",
        "Hence, using with is better"
      ],
      "metadata": {
        "id": "wKvd_21yp16v"
      }
    },
    {
      "cell_type": "markdown",
      "source": [
        "Q6. Explain the write() and writelines() functions. Give a suitable example.\n",
        "\n",
        "The write() function will write the content in the file without adding any extra characters.\n",
        "\n",
        "The writelines() function writes the content of a list to a file."
      ],
      "metadata": {
        "id": "tXFVf46NqO2N"
      }
    },
    {
      "cell_type": "code",
      "source": [
        "file = open(\"test4.txt\", \"w\")\n",
        "  \n",
        "file.write(\"Hello World\")\n",
        "     \n",
        "file.close()\n",
        "  \n",
        "file = open(\"test4.txt\", \"r\")\n",
        "print(file.read())"
      ],
      "metadata": {
        "colab": {
          "base_uri": "https://localhost:8080/"
        },
        "id": "4WXHvTyvqG0s",
        "outputId": "a767077c-25af-4c71-a993-77a1807e52de"
      },
      "execution_count": 78,
      "outputs": [
        {
          "output_type": "stream",
          "name": "stdout",
          "text": [
            "Hello World\n"
          ]
        }
      ]
    },
    {
      "cell_type": "code",
      "source": [
        "file1 = open(\"test5.txt\", \"w\")\n",
        "\n",
        "file1.writelines([\"Abhay\\t\", \"Magar\\t\", \"Vaibhav\\t\"])\n",
        "\n",
        "file1.close()\n",
        "file1 = open(\"test5.txt\", \"r\")\n",
        "print(file1.read())\n"
      ],
      "metadata": {
        "colab": {
          "base_uri": "https://localhost:8080/"
        },
        "id": "ePGxUkMiqoxy",
        "outputId": "0f23e78c-e3d8-4c6d-8696-6520bf1bb823"
      },
      "execution_count": 80,
      "outputs": [
        {
          "output_type": "stream",
          "name": "stdout",
          "text": [
            "Abhay\tMagar\tVaibhav\t\n"
          ]
        }
      ]
    }
  ]
}