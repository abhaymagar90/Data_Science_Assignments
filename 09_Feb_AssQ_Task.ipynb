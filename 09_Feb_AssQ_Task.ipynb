{
  "nbformat": 4,
  "nbformat_minor": 0,
  "metadata": {
    "colab": {
      "provenance": []
    },
    "kernelspec": {
      "name": "python3",
      "display_name": "Python 3"
    },
    "language_info": {
      "name": "python"
    }
  },
  "cells": [
    {
      "cell_type": "markdown",
      "source": [
        "Q1, Create a vehicle class with an init method having instance variables as name_of_vehicle, max_speed\n",
        "and average_of_vehicle."
      ],
      "metadata": {
        "id": "NlXcGsWWYX_V"
      }
    },
    {
      "cell_type": "code",
      "execution_count": 1,
      "metadata": {
        "id": "pyx_IlhUYUJE"
      },
      "outputs": [],
      "source": [
        "class Vehicle:\n",
        "  def __init__(self, name_of_vehicle, max_speed,average_of_vehicle):\n",
        "    self.name_of_vehicle = name_of_vehicle\n",
        "    self.max_speed = max_speed\n",
        "    self.average_of_vehicle = average_of_vehicle"
      ]
    },
    {
      "cell_type": "markdown",
      "source": [
        "Q2. Create a child class car from the vehicle class created in Que 1, which will inherit the vehicle class.\n",
        "Create a method named seating_capacity which takes capacity as an argument and returns the name of\n",
        "the vehicle and its seating capacity."
      ],
      "metadata": {
        "id": "kbT1Brn1YwWN"
      }
    },
    {
      "cell_type": "code",
      "source": [
        "class car(Vehicle):\n",
        "  def __init__(self, name_of_vehicle, max_speed,average_of_vehicle):\n",
        "    super().__init__(name_of_vehicle, max_speed,average_of_vehicle)\n",
        "\n",
        "  def show(self, seating_capacity):\n",
        "    return (self.name_of_vehicle, seating_capacity)"
      ],
      "metadata": {
        "id": "Bsru0Mn3YpQg"
      },
      "execution_count": 8,
      "outputs": []
    },
    {
      "cell_type": "code",
      "source": [
        "obj_car = car(\"Honda City\", 240, 15)\n",
        "obj_car.show(6)"
      ],
      "metadata": {
        "colab": {
          "base_uri": "https://localhost:8080/"
        },
        "id": "eqQ912uUZVaI",
        "outputId": "c3f24d46-867b-426a-c1e0-b7396bc99c51"
      },
      "execution_count": 9,
      "outputs": [
        {
          "output_type": "execute_result",
          "data": {
            "text/plain": [
              "('Honda City', 6)"
            ]
          },
          "metadata": {},
          "execution_count": 9
        }
      ]
    },
    {
      "cell_type": "markdown",
      "source": [
        "Q3. What is multiple inheritance? Write a python code to demonstrate multiple inheritance.\n",
        "\n",
        "Inheritance is the mechanism to achieve the re-usability of code as one class(child class) can derive the properties of another class(parent class)."
      ],
      "metadata": {
        "id": "iuUQ0kNmbYyw"
      }
    },
    {
      "cell_type": "code",
      "source": [
        "class student:\n",
        "  def __init__(self, name, age):\n",
        "    self.name = name\n",
        "    self.age = age\n",
        "  \n",
        "  def show(self):\n",
        "    print(self.name, self.age)\n",
        "\n",
        "class teacher(student):\n",
        "  def __init__(self, name, age, salary):\n",
        "    super().__init__(name, age)\n",
        "    self.salary = salary\n",
        "\n",
        "  def show(self):\n",
        "    super().show()\n",
        "    return (self.salary)\n",
        "\n",
        "s = student(\"Abhay\", 21)\n",
        "s.show()\n",
        "\n"
      ],
      "metadata": {
        "colab": {
          "base_uri": "https://localhost:8080/"
        },
        "id": "MfbVxVJ1a5IS",
        "outputId": "a5452ef9-be50-450a-b9dc-86df102cbb84"
      },
      "execution_count": 14,
      "outputs": [
        {
          "output_type": "stream",
          "name": "stdout",
          "text": [
            "Abhay 21\n"
          ]
        }
      ]
    },
    {
      "cell_type": "code",
      "source": [
        "t = teacher(\"Dr.Prakash\", 60, 100000)\n",
        "t.show()"
      ],
      "metadata": {
        "colab": {
          "base_uri": "https://localhost:8080/"
        },
        "id": "lSKCRCjhc-Lc",
        "outputId": "c46a4e8f-094f-4434-f6c9-e0233b9f161b"
      },
      "execution_count": 15,
      "outputs": [
        {
          "output_type": "stream",
          "name": "stdout",
          "text": [
            "Dr.Prakash 60\n"
          ]
        },
        {
          "output_type": "execute_result",
          "data": {
            "text/plain": [
              "100000"
            ]
          },
          "metadata": {},
          "execution_count": 15
        }
      ]
    },
    {
      "cell_type": "markdown",
      "source": [
        "Q4. What are getter and setter in python? Create a class and create a getter and a setter method in this\n",
        "class.\n",
        "\n",
        "The main aim of getter and setter in python is to access or set/change the value of private/protected variables"
      ],
      "metadata": {
        "id": "Z-_ma5l4dY5q"
      }
    },
    {
      "cell_type": "code",
      "source": [
        "class test:\n",
        "  def __init__(self, name, marks):\n",
        "    self.name = name                           # public variable\n",
        "    self.__marks = marks                       # private variable\n",
        "\n",
        "  @property\n",
        "  def access_marks(self):\n",
        "    return self.__marks\n",
        "\n",
        "  @access_marks.setter\n",
        "  def set_marks(self, new_marks):\n",
        "    self.__marks = new_marks\n",
        "\n",
        "t = test(\"Abhay Magar\", 95)\n",
        "t.name"
      ],
      "metadata": {
        "colab": {
          "base_uri": "https://localhost:8080/",
          "height": 36
        },
        "id": "ybFbgiU0dNlV",
        "outputId": "625d431a-a888-45f6-ac4a-6230a193e04f"
      },
      "execution_count": 23,
      "outputs": [
        {
          "output_type": "execute_result",
          "data": {
            "text/plain": [
              "'Abhay Magar'"
            ],
            "application/vnd.google.colaboratory.intrinsic+json": {
              "type": "string"
            }
          },
          "metadata": {},
          "execution_count": 23
        }
      ]
    },
    {
      "cell_type": "code",
      "source": [
        "# t.marks  # error -> 'test' object has no attribute 'marks'.    ( BECAUSE marks is private variable)"
      ],
      "metadata": {
        "id": "jGnPtDPUeNnD"
      },
      "execution_count": 24,
      "outputs": []
    },
    {
      "cell_type": "code",
      "source": [
        "# Owner of class can access in the following way    -> objname._classname__varname\n",
        "\n",
        "t._test__marks"
      ],
      "metadata": {
        "colab": {
          "base_uri": "https://localhost:8080/"
        },
        "id": "izgb0bONePEp",
        "outputId": "cbeac9fb-b9ea-4f7e-a3fd-e7b894151b26"
      },
      "execution_count": 25,
      "outputs": [
        {
          "output_type": "execute_result",
          "data": {
            "text/plain": [
              "95"
            ]
          },
          "metadata": {},
          "execution_count": 25
        }
      ]
    },
    {
      "cell_type": "code",
      "source": [
        "# Use of @property allows to expose the private variables to the outside world so that they can be accessed or changed\n",
        "\n",
        "print(\"Getting marks = \", t.access_marks)            # getting marks"
      ],
      "metadata": {
        "colab": {
          "base_uri": "https://localhost:8080/"
        },
        "id": "SUXMLpvSefkd",
        "outputId": "d161d8f0-2552-45df-e40d-389c622bf9b2"
      },
      "execution_count": 26,
      "outputs": [
        {
          "output_type": "stream",
          "name": "stdout",
          "text": [
            "Getting marks =  95\n"
          ]
        }
      ]
    },
    {
      "cell_type": "code",
      "source": [
        "t.set_marks = 100      # setting marks\n",
        "\n",
        "print(\"New marks after setting = \", t.access_marks)"
      ],
      "metadata": {
        "colab": {
          "base_uri": "https://localhost:8080/"
        },
        "id": "ZmByGMM0eyme",
        "outputId": "958cf0eb-318d-4d72-cd05-f134092fb948"
      },
      "execution_count": 27,
      "outputs": [
        {
          "output_type": "stream",
          "name": "stdout",
          "text": [
            "New marks after setting =  100\n"
          ]
        }
      ]
    },
    {
      "cell_type": "markdown",
      "source": [
        "Q5.What is method overriding in python? Write a python code to demonstrate method overriding.\n",
        "\n",
        "Method overriding in Python is when you have two methods with the same name that each perform different tasks. This is an important feature of inheritance in Python."
      ],
      "metadata": {
        "id": "skkXEatlfNeK"
      }
    },
    {
      "cell_type": "code",
      "source": [
        "class class1:\n",
        "  def show(self):\n",
        "    print(\"This is inside parent class\")\n",
        "\n",
        "class class2(class1):\n",
        "  def show(self):\n",
        "    print(\"This is inside child class\")\n"
      ],
      "metadata": {
        "id": "iPx5j-UnfBBJ"
      },
      "execution_count": 29,
      "outputs": []
    },
    {
      "cell_type": "code",
      "source": [
        "c1 = class1()\n",
        "c1.show()"
      ],
      "metadata": {
        "colab": {
          "base_uri": "https://localhost:8080/"
        },
        "id": "W36ksxBSf4jK",
        "outputId": "ca839386-3eb5-41c2-9895-fb59798e7634"
      },
      "execution_count": 30,
      "outputs": [
        {
          "output_type": "stream",
          "name": "stdout",
          "text": [
            "This is inside parent class\n"
          ]
        }
      ]
    },
    {
      "cell_type": "code",
      "source": [
        "c2 = class2()\n",
        "c2.show()"
      ],
      "metadata": {
        "colab": {
          "base_uri": "https://localhost:8080/"
        },
        "id": "wbNvq8c2f-zm",
        "outputId": "64af5b0b-0446-424f-fc9e-5f645d19d94e"
      },
      "execution_count": 31,
      "outputs": [
        {
          "output_type": "stream",
          "name": "stdout",
          "text": [
            "This is inside child class\n"
          ]
        }
      ]
    },
    {
      "cell_type": "markdown",
      "source": [
        "Here show() method is overridden as it occurs two times, once in class1 and then in class2. Which show() method will be called depends upon object of which class calls it"
      ],
      "metadata": {
        "id": "PEINzSZrgCp2"
      }
    }
  ]
}