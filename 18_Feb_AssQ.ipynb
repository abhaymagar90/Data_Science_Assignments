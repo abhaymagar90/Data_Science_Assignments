{
  "nbformat": 4,
  "nbformat_minor": 0,
  "metadata": {
    "colab": {
      "provenance": []
    },
    "kernelspec": {
      "name": "python3",
      "display_name": "Python 3"
    },
    "language_info": {
      "name": "python"
    }
  },
  "cells": [
    {
      "cell_type": "markdown",
      "source": [
        "Q1. What is an API? Give an example, where an API is used in real life.\n",
        "\n",
        "API stands for application programming interface. It is used in web applications to connect user-facing front ends with critical back-end functionality and data.\n",
        "eg  -  When you login into Email, your username and password is sent into a backend server where verification is done using some functions or code. Access is then given if the verification is successful. This data transfer takes place with the help of API"
      ],
      "metadata": {
        "id": "bcOfdaW8nXIG"
      }
    },
    {
      "cell_type": "markdown",
      "source": [
        "Q2. Give advantages and disadvantages of using API.\n",
        "\n",
        "# Advantages:\n",
        "\n",
        "* Increased Interoperability: API solutions enable different software systems to communicate with each other, regardless of their programming language or platform. This enhances the interoperability between systems, allowing for the exchange of data and functionality.\n",
        "* Improved Efficiency: API driven infrastructures enable developers to reuse code and functionality from existing software systems, saving time and reducing the amount of code that needs to be written from scratch.\n",
        "* Better User Experience: APIs can enable third-party developers to create applications that integrate with existing software systems, providing a better user experience and increased functionality.\n",
        "* Increased Flexibility: APIs provide developers with greater flexibility, enabling them to choose the best programming languages and frameworks for their needs.\n",
        "\n",
        "# Disadvantages:\n",
        "\n",
        "* Security Concerns: API infrastructures can be vulnerable to security breaches, such as SQL injection attacks and cross-site scripting (XSS) attacks, making it crucial to implement security measures to protect against these threats.\n",
        "* Complexity: APIs can be complex, requiring a significant amount of development effort to implement and maintain.\n",
        "* Compatibility Issues: APIs can have compatibility issues between different versions of the same software system or between different systems, which can lead to errors and system failures."
      ],
      "metadata": {
        "id": "93bBsGTSoxLW"
      }
    },
    {
      "cell_type": "markdown",
      "source": [
        "Q3. What is a Web API? Differentiate between API and Web API.\n",
        "\n",
        "Web API as the name suggests, is an API over the web which can be accessed using HTTP protocol. It is a concept and not a technology. We can build Web API using different technologies such as Java, .NET etc. For example, Twitter's REST APIs provide programmatic access to read and write data using which we can integrate twitter's capabilities into our own application.\n",
        "\n",
        "API can be created using TCP/ SMTP and HTTP protocol, whereas Web Api only uses HTTP protocol"
      ],
      "metadata": {
        "id": "L8FRppUypi8A"
      }
    },
    {
      "cell_type": "markdown",
      "source": [
        "Q4. Explain REST and SOAP Architecture. Mention shortcomings of SOAP.\n",
        "\n",
        "* REST\n",
        "\n",
        "It uses Http protocol. We can see functions like PUT, GET, POST, DELETE in Rest. It is simple, scalable, flexible. But, REST is less secure.\n",
        "\n",
        "* SOAP\n",
        "\n",
        "Soap uses TCP/ SMTP protocol. It is more secure than REST. But, it is not as scalable or flexible as REST."
      ],
      "metadata": {
        "id": "ndYHRSRMshHM"
      }
    },
    {
      "cell_type": "markdown",
      "source": [
        "Q5. Differentiate between REST and SOAP.\n",
        "\n",
        "* SOAP is XML based and relies on SOAP, it works with WSDL. REST works with GET, POST, PUT, DELETE\n",
        "\n",
        "* SOAP is Highly structured. REST is Less structured -> less bulky data\n",
        "\n",
        "* SOAP Transports data in standard XML format. REST Generally transports data in JSON.\n",
        "\n",
        "* SOAP is more secure than REST.\n",
        "\n",
        "* REST is more secure than SOAP"
      ],
      "metadata": {
        "id": "nM0Od1m4t4f0"
      }
    }
  ]
}