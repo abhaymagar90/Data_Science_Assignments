{
  "nbformat": 4,
  "nbformat_minor": 0,
  "metadata": {
    "colab": {
      "provenance": []
    },
    "kernelspec": {
      "name": "python3",
      "display_name": "Python 3"
    },
    "language_info": {
      "name": "python"
    }
  },
  "cells": [
    {
      "cell_type": "markdown",
      "source": [
        "***Q1. What are the characteristics of the tuples? Is tuple immutable?***\n",
        "\n",
        "Tuples are immutable and they are indexed as well as ordered. They also can contain duplicate values."
      ],
      "metadata": {
        "id": "VP8rt_ky-9E0"
      }
    },
    {
      "cell_type": "markdown",
      "source": [
        "***Q.2 What are the two tuple methods in python? Give an example of each method. Give a reason why tuples have only two in-built methods as compared to Lists.***"
      ],
      "metadata": {
        "id": "na67Iei9_SI5"
      }
    },
    {
      "cell_type": "code",
      "source": [
        "# Two tuple methods: count() and index()\n",
        "\n",
        "t = (1,2,3,4)\n",
        "type(t)"
      ],
      "metadata": {
        "colab": {
          "base_uri": "https://localhost:8080/"
        },
        "id": "KHZcAj9l_SwW",
        "outputId": "ab03bf9a-9cb5-43f9-db07-d10d5e998fbd"
      },
      "execution_count": 1,
      "outputs": [
        {
          "output_type": "execute_result",
          "data": {
            "text/plain": [
              "tuple"
            ]
          },
          "metadata": {},
          "execution_count": 1
        }
      ]
    },
    {
      "cell_type": "code",
      "source": [
        "print(t.count(3))\n",
        "print(t.count(10))            # count() is used to count no. of element in a tuple"
      ],
      "metadata": {
        "colab": {
          "base_uri": "https://localhost:8080/"
        },
        "id": "K5VTDEuY_Yn0",
        "outputId": "7173684b-e7fd-4fa0-9164-77f153b4f426"
      },
      "execution_count": 3,
      "outputs": [
        {
          "output_type": "stream",
          "name": "stdout",
          "text": [
            "1\n",
            "0\n"
          ]
        }
      ]
    },
    {
      "cell_type": "code",
      "source": [
        "print(t.index(3))\n",
        "print(t.index(1))     # index() returns index of an element in a tuple\n",
        "# print(t.index(10))    --> error"
      ],
      "metadata": {
        "colab": {
          "base_uri": "https://localhost:8080/"
        },
        "id": "6SUOjMgf_x41",
        "outputId": "4e9ea966-4cd6-4776-dede-b018927d3b9a"
      },
      "execution_count": 6,
      "outputs": [
        {
          "output_type": "stream",
          "name": "stdout",
          "text": [
            "2\n",
            "0\n"
          ]
        }
      ]
    },
    {
      "cell_type": "markdown",
      "source": [
        "The main reason why tuples have only two in-built methods as compared to Lists is that tuples are immutable(can't be changed) unlike Lists which are mutable.\n",
        "\n"
      ],
      "metadata": {
        "id": "oNKaiEjHANxH"
      }
    },
    {
      "cell_type": "markdown",
      "source": [
        "***Q3. Which collection datatypes in python do not allow duplicate items? Write a code using a set to remove duplicates from the given list.***\n",
        "\n",
        "A set is a datatype which only consists of unique element. If it is given repeated values, it will only store one value and discard all the other duplicates."
      ],
      "metadata": {
        "id": "msao7hCxAjYu"
      }
    },
    {
      "cell_type": "code",
      "source": [
        "List = [1, 1, 1, 2, 1, 3, 1, 4, 2, 1, 2, 2, 2, 3, 2, 4, 3, 1, 3, 2, 3, 3, 3, 4, 4, 1, 4, 2, 4, 3, 4, 4]\n",
        "print(List)"
      ],
      "metadata": {
        "colab": {
          "base_uri": "https://localhost:8080/"
        },
        "id": "ZimpciR-AuxT",
        "outputId": "11d4070c-0e07-48cb-d3ae-7de49d5e539a"
      },
      "execution_count": 7,
      "outputs": [
        {
          "output_type": "stream",
          "name": "stdout",
          "text": [
            "[1, 1, 1, 2, 1, 3, 1, 4, 2, 1, 2, 2, 2, 3, 2, 4, 3, 1, 3, 2, 3, 3, 3, 4, 4, 1, 4, 2, 4, 3, 4, 4]\n"
          ]
        }
      ]
    },
    {
      "cell_type": "code",
      "source": [
        "# convert list to set. Automatically, duplicates will be discarded\n",
        "s = set(List)\n",
        "print(s)"
      ],
      "metadata": {
        "colab": {
          "base_uri": "https://localhost:8080/"
        },
        "id": "5G4Aa7WNBa_c",
        "outputId": "bc626543-a631-4ae3-f975-d26d3a3f1e8e"
      },
      "execution_count": 8,
      "outputs": [
        {
          "output_type": "stream",
          "name": "stdout",
          "text": [
            "{1, 2, 3, 4}\n"
          ]
        }
      ]
    },
    {
      "cell_type": "code",
      "source": [
        "# again convert set to List\n",
        "List = list(s)\n",
        "print(List)"
      ],
      "metadata": {
        "colab": {
          "base_uri": "https://localhost:8080/"
        },
        "id": "5F_DfH4MBrXL",
        "outputId": "debd802a-d3b3-41d5-face-0d42fe8d7d44"
      },
      "execution_count": 9,
      "outputs": [
        {
          "output_type": "stream",
          "name": "stdout",
          "text": [
            "[1, 2, 3, 4]\n"
          ]
        }
      ]
    },
    {
      "cell_type": "markdown",
      "source": [
        "***Q4. Explain the difference between the union() and update() methods for a set. Give an example of each method.***\n",
        "\n",
        "update() adds all missing elements to the set on which it is called.\n",
        "union() creates new set with elements from both sets"
      ],
      "metadata": {
        "id": "gma5T55vByYQ"
      }
    },
    {
      "cell_type": "code",
      "source": [
        "x = {1,2,3}\n",
        "y = {4,5,1}\n",
        "\n",
        "z = x.union(y)\n",
        "\n",
        "print(z)"
      ],
      "metadata": {
        "colab": {
          "base_uri": "https://localhost:8080/"
        },
        "id": "dZWCrRNdDFwO",
        "outputId": "f884eeb5-de46-4b8b-9228-211756fb0175"
      },
      "execution_count": 11,
      "outputs": [
        {
          "output_type": "stream",
          "name": "stdout",
          "text": [
            "{1, 2, 3, 4, 5}\n"
          ]
        }
      ]
    },
    {
      "cell_type": "code",
      "source": [
        "x = {1,2,3}\n",
        "y = {4,5,1}\n",
        "\n",
        "z = x.update(y)\n",
        "\n",
        "print(z)\n",
        "print(x)"
      ],
      "metadata": {
        "colab": {
          "base_uri": "https://localhost:8080/"
        },
        "id": "4D8-vCSXDOLZ",
        "outputId": "f9c56cf7-acd5-4fdb-fc16-3a56f81a41ad"
      },
      "execution_count": 13,
      "outputs": [
        {
          "output_type": "stream",
          "name": "stdout",
          "text": [
            "None\n",
            "{1, 2, 3, 4, 5}\n"
          ]
        }
      ]
    },
    {
      "cell_type": "markdown",
      "source": [
        "***Q5. What is a dictionary? Give an example. Also, state whether a dictionary is ordered or unordered.***\n",
        "\n",
        "A dictionary is a datatype which consists of key-value pairs. It is ordered, changeable and does not contain duplicates"
      ],
      "metadata": {
        "id": "XG6yKgCvDZCB"
      }
    },
    {
      "cell_type": "code",
      "source": [
        "d = {\"name\":\"Abhay\", \"Rollno\":35, \"hobbies\": {\"gaming\", \"music\", \"anime\"}}\n",
        "d"
      ],
      "metadata": {
        "colab": {
          "base_uri": "https://localhost:8080/"
        },
        "id": "v7vR7zo1Dr1Q",
        "outputId": "82b25834-dda4-4495-c6fa-f04bf5c31d83"
      },
      "execution_count": 14,
      "outputs": [
        {
          "output_type": "execute_result",
          "data": {
            "text/plain": [
              "{'name': 'Abhay', 'Rollno': 35, 'hobbies': {'anime', 'gaming', 'music'}}"
            ]
          },
          "metadata": {},
          "execution_count": 14
        }
      ]
    },
    {
      "cell_type": "markdown",
      "source": [
        "***Q6. Can we create a nested dictionary? If so, please give an example by creating a simple one-level nested dictionary.***\n",
        "\n",
        "Yes, we can absolutely create a nested dictionary."
      ],
      "metadata": {
        "id": "ojr1kkglD8mU"
      }
    },
    {
      "cell_type": "code",
      "source": [
        "d1 = {\"branch\": \"comp\", \"id\": 2, \"name\": {\"firstname\": \"Abhay\", \"middlename\": \"Shivaji\", \"lastname\":\"Magar\"} }\n",
        "d1"
      ],
      "metadata": {
        "colab": {
          "base_uri": "https://localhost:8080/"
        },
        "id": "tvUoLRaPEU1e",
        "outputId": "b7d89443-920b-42a2-e260-0169f887ec05"
      },
      "execution_count": 15,
      "outputs": [
        {
          "output_type": "execute_result",
          "data": {
            "text/plain": [
              "{'branch': 'comp',\n",
              " 'id': 2,\n",
              " 'name': {'firstname': 'Abhay', 'middlename': 'Shivaji', 'lastname': 'Magar'}}"
            ]
          },
          "metadata": {},
          "execution_count": 15
        }
      ]
    },
    {
      "cell_type": "code",
      "source": [
        "d1.get(\"name\")"
      ],
      "metadata": {
        "colab": {
          "base_uri": "https://localhost:8080/"
        },
        "id": "OK8199ZwEsuA",
        "outputId": "b4e919cc-3342-4751-aedc-c37b64bc23ef"
      },
      "execution_count": 16,
      "outputs": [
        {
          "output_type": "execute_result",
          "data": {
            "text/plain": [
              "{'firstname': 'Abhay', 'middlename': 'Shivaji', 'lastname': 'Magar'}"
            ]
          },
          "metadata": {},
          "execution_count": 16
        }
      ]
    },
    {
      "cell_type": "code",
      "source": [
        "type(d1.get(\"name\"))"
      ],
      "metadata": {
        "colab": {
          "base_uri": "https://localhost:8080/"
        },
        "id": "azvfE4HUExSP",
        "outputId": "a2ac0427-a92f-4de3-f287-917bb700a611"
      },
      "execution_count": 17,
      "outputs": [
        {
          "output_type": "execute_result",
          "data": {
            "text/plain": [
              "dict"
            ]
          },
          "metadata": {},
          "execution_count": 17
        }
      ]
    },
    {
      "cell_type": "markdown",
      "source": [
        "***Q7. Using setdefault() method, create key named topics in the given dictionary and also add the value of the key as this list ['Python', 'Machine Learning’, 'Deep Learning']***"
      ],
      "metadata": {
        "id": "Xc7TWNxeE8P-"
      }
    },
    {
      "cell_type": "code",
      "source": [
        "dict1 = {'language' : 'Python', 'course': 'Data Science Masters'}\n",
        "dict1"
      ],
      "metadata": {
        "colab": {
          "base_uri": "https://localhost:8080/"
        },
        "id": "GHGKtGNEQtrT",
        "outputId": "6252affc-24c8-4abb-97af-58ce366fbf7a"
      },
      "execution_count": 19,
      "outputs": [
        {
          "output_type": "execute_result",
          "data": {
            "text/plain": [
              "{'language': 'Python', 'course': 'Data Science Masters'}"
            ]
          },
          "metadata": {},
          "execution_count": 19
        }
      ]
    },
    {
      "cell_type": "code",
      "source": [
        "dict1.setdefault(\"topics\", ['Python', 'Machine Learning', 'Deep Learning'])\n",
        "dict1"
      ],
      "metadata": {
        "colab": {
          "base_uri": "https://localhost:8080/"
        },
        "id": "J4zEIpN6Qu0w",
        "outputId": "b7e4114a-a2b6-48b5-b1d5-66215bf7addf"
      },
      "execution_count": 22,
      "outputs": [
        {
          "output_type": "execute_result",
          "data": {
            "text/plain": [
              "{'language': 'Python',\n",
              " 'course': 'Data Science Masters',\n",
              " 'topics': ['Python', 'Machine Learning', 'Deep Learning']}"
            ]
          },
          "metadata": {},
          "execution_count": 22
        }
      ]
    },
    {
      "cell_type": "markdown",
      "source": [
        "***Q.8. What are the three view objects in dictionaries? Use the three in-built methods in python to display these three view objects for the given dictionary.***\n",
        "\n",
        "The three view objects in dictionries are keys, values and items\n"
      ],
      "metadata": {
        "id": "iEzl3CquRhNW"
      }
    },
    {
      "cell_type": "code",
      "source": [
        "dict1 = {'Sport': 'Cricket' , 'Teams': ['India', 'Australia', 'England', 'South Africa', 'Sri Lanka', 'New Zealand']}\n",
        "\n",
        "dict1.keys()        # returns all keys in the dictionary"
      ],
      "metadata": {
        "colab": {
          "base_uri": "https://localhost:8080/"
        },
        "id": "6F1vULdKRleD",
        "outputId": "5913722c-ba54-42b3-9577-210689b63526"
      },
      "execution_count": 26,
      "outputs": [
        {
          "output_type": "execute_result",
          "data": {
            "text/plain": [
              "dict_keys(['Sport', 'Teams'])"
            ]
          },
          "metadata": {},
          "execution_count": 26
        }
      ]
    },
    {
      "cell_type": "code",
      "source": [
        "dict1.values()      # returns all values in dictionary"
      ],
      "metadata": {
        "colab": {
          "base_uri": "https://localhost:8080/"
        },
        "id": "S4TEgtKESYiJ",
        "outputId": "6ad03746-d9bd-4c79-dc18-5fa3fc8651d8"
      },
      "execution_count": 27,
      "outputs": [
        {
          "output_type": "execute_result",
          "data": {
            "text/plain": [
              "dict_values(['Cricket', ['India', 'Australia', 'England', 'South Africa', 'Sri Lanka', 'New Zealand']])"
            ]
          },
          "metadata": {},
          "execution_count": 27
        }
      ]
    },
    {
      "cell_type": "code",
      "source": [
        "dict1.items()"
      ],
      "metadata": {
        "colab": {
          "base_uri": "https://localhost:8080/"
        },
        "id": "5XY-4ONKSbCt",
        "outputId": "1b3c2429-5a83-4954-da60-515521fd0e6b"
      },
      "execution_count": 28,
      "outputs": [
        {
          "output_type": "execute_result",
          "data": {
            "text/plain": [
              "dict_items([('Sport', 'Cricket'), ('Teams', ['India', 'Australia', 'England', 'South Africa', 'Sri Lanka', 'New Zealand'])])"
            ]
          },
          "metadata": {},
          "execution_count": 28
        }
      ]
    }
  ]
}