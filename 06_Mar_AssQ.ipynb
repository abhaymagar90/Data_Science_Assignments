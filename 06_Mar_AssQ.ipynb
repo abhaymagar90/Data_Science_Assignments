{
  "nbformat": 4,
  "nbformat_minor": 0,
  "metadata": {
    "colab": {
      "provenance": []
    },
    "kernelspec": {
      "name": "python3",
      "display_name": "Python 3"
    },
    "language_info": {
      "name": "python"
    }
  },
  "cells": [
    {
      "cell_type": "markdown",
      "source": [
        "Q1. What is Statistics?\n",
        "\n",
        "Statistics is a science of organizing, summaring and visualizing data"
      ],
      "metadata": {
        "id": "ESxCgToDsf_5"
      }
    },
    {
      "cell_type": "markdown",
      "source": [
        "Q2. Define the different types of statistics and give an example of when each type might be used.\n",
        "\n",
        "1] Descriptive Statistics\n",
        "\n",
        "eg -> average of weight of a class of 50 students\n",
        "\n",
        "2] Inferential Statistics\n",
        "\n",
        "eg -> Exit poll. A sample of population is taken from various locations and the party with maximum votes is expected to win"
      ],
      "metadata": {
        "id": "bxQFaDzHsrrL"
      }
    },
    {
      "cell_type": "markdown",
      "source": [
        "Q3. What are the different types of data and how do they differ from each other? Provide an example of\n",
        "each type of data.\n",
        "\n",
        "1] Qualitative/ Categorical Data : In the form of anything expect numbers.\n",
        "eg -> Yes/ No\n",
        "\n",
        "Types:\n",
        "\n",
        "* Nominal Data - No order. eg-> sunny, rainy, overcast\n",
        "* Ordinal Data - Rank and order is present. eg-> Rich/ Poor , high>medium>low\n",
        "\n",
        "2 ] Quantitative/ Numerical Data : In the form of numbers\n",
        "\n",
        "Types:\n",
        "\n",
        "* Discrete - Countable values. eg -> No. of cats\n",
        "* Continuous -> Measurable values. eg-> Speed"
      ],
      "metadata": {
        "id": "7vMU82o1tRfT"
      }
    },
    {
      "cell_type": "markdown",
      "source": [
        "Q4. Categorise the following datasets with respect to quantitative and qualitative data types:\n",
        "(i) Grading in exam: A+, A, B+, B, C+, C, D, E\n",
        "(ii) Colour of mangoes: yellow, green, orange, red\n",
        "(iii) Height data of a class: [178.9, 179, 179.5, 176, 177.2, 178.3, 175.8,...]\n",
        "(iv) Number of mangoes exported by a farm: [500, 600, 478, 672, ...]\n",
        "\n",
        "i -> qualitative\n",
        "ii -> quantitative\n",
        "iii -> Quantitative\n",
        "iv -> Quantitative"
      ],
      "metadata": {
        "id": "H4weznrxt_Sb"
      }
    },
    {
      "cell_type": "markdown",
      "source": [
        "Q5. Explain the concept of levels of measurement and give an example of a variable for each level.\n",
        "\n",
        "These levels are used to categorize and describe data based on their characteristics and properties.\n",
        "\n",
        "* Nominal -> eg-> colours\n",
        "* Ordinal -> eg -> Qualification\n",
        "* Interval -> eg-> Temperature\n",
        "* Ratio -> eg-> Grades"
      ],
      "metadata": {
        "id": "rEBiqB_7uYKz"
      }
    },
    {
      "cell_type": "markdown",
      "source": [
        "Q6. Why is it important to understand the level of measurement when analyzing data? Provide an\n",
        "example to illustrate your answer.\n",
        "\n",
        "the level of measurement determines the type of statistical analysis that can be conducted, and, therefore, the type of conclusions that can be drawn\n",
        "\n",
        "eg -> If you have a column of Weather which contains Three Classes ( Sunny, Raint, Overcast). You can clearly see these are categorical values and they do not have Rank/ Order. Hence, They are Nominal Scale Data"
      ],
      "metadata": {
        "id": "TV1culwou8GO"
      }
    },
    {
      "cell_type": "markdown",
      "source": [
        "Q7. How nominal data type is different from ordinal data type.\n",
        "\n",
        "* Nominal data type does not have any Rank or Order. eg-> Male/ Female\n",
        "* Ordinal data type has Rank and Order. eg-> High>Medium>low"
      ],
      "metadata": {
        "id": "E2CfW38FvdqV"
      }
    },
    {
      "cell_type": "markdown",
      "source": [
        "Q8. Which type of plot can be used to display data in terms of range?\n",
        "\n",
        "boxplot"
      ],
      "metadata": {
        "id": "7xms6CX1v2je"
      }
    },
    {
      "cell_type": "markdown",
      "source": [
        "Q9. Describe the difference between descriptive and inferential statistics. Give an example of each\n",
        "type of statistics and explain how they are used.\n",
        "\n",
        "Descriptive Statistics:\n",
        "* It gives information about raw data which describes the data in some manner\n",
        "* It is used to describe a situation.\n",
        "* It can be achieved with the help of charts, graphs, tables, etc.\n",
        "\n",
        "eg -> average of weight of a class of 50 students\n",
        "\n",
        "Inferential Statistics:\n",
        "* It makes inferences about the population using data drawn from the population.\n",
        "* It is used to explain the chance of occurrence of an event.\n",
        "* \tIt can be achieved by probability.\n",
        "\n",
        "eg -> Exit poll. A sample of population is taken from various locations and the party with maximum votes is expected to win"
      ],
      "metadata": {
        "id": "xUXQz-x2v6Dc"
      }
    },
    {
      "cell_type": "markdown",
      "source": [
        "Q10. What are some common measures of central tendency and variability used in statistics? Explain\n",
        "how each measure can be used to describe a dataset.\n",
        "\n",
        "Measures of Central Tendency:\n",
        "* Mean - It is nothing but average of all elements in distribution\n",
        "* Median - It is central point of distribution\n",
        "* Mode - It is the element with highest occurence in the distribution\n",
        "\n",
        "Measures of Variability:\n",
        "* Range: the difference between the highest and lowest values\n",
        "* Interquartile range: the range of the middle half of a distribution\n",
        "* Standard deviation: average distance from the mean\n",
        "* Variance: average of squared distances from the mean"
      ],
      "metadata": {
        "id": "7D_do08kweB-"
      }
    }
  ]
}